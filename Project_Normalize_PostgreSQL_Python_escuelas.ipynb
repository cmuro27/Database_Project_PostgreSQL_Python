{
 "cells": [
  {
   "attachments": {},
   "cell_type": "markdown",
   "metadata": {},
   "source": [
    "# Creating and manipulating a database in PostgreSQL from Python\n",
    "## César Muro Cabral"
   ]
  },
  {
   "attachments": {},
   "cell_type": "markdown",
   "metadata": {},
   "source": [
    "In this project, we are going to clean, load, and normalize, in PostgreSQL and using Python, a large dataset about educational centers in the Mexican State of Zacatecas.\n",
    "      \n",
    "Steps:  \n",
    "- Importing as csv  \n",
    "- Cleaning the data; the column headers, extra spaces, capital letters...  \n",
    "- Exporting the data into a PostgreSql database  \n",
    "- In PostgreSql we normalize the data and create a entity relationship diagram.\n",
    "- We construct two functions where we connect again to the database and query for the name of the schools and the number of students"
   ]
  },
  {
   "attachments": {},
   "cell_type": "markdown",
   "metadata": {},
   "source": [
    "We import the data as a pandas dataframe"
   ]
  },
  {
   "cell_type": "code",
   "execution_count": 29,
   "metadata": {},
   "outputs": [],
   "source": [
    "import os \n",
    "import numpy as np\n",
    "import pandas as pd\n",
    "df=pd.read_csv(\"escuelas.csv\")\n",
    "tbl_name=\"escuelas_zac\""
   ]
  },
  {
   "cell_type": "code",
   "execution_count": 1,
   "metadata": {},
   "outputs": [],
   "source": [
    "#Since I'm connecting to a database I stored the password as a einvorenment variable\n",
    "import os\n",
    "password=os.environ.get('DB_PASSWORD')"
   ]
  },
  {
   "attachments": {},
   "cell_type": "markdown",
   "metadata": {},
   "source": [
    "Let us look the column properties of the dataframe:"
   ]
  },
  {
   "cell_type": "code",
   "execution_count": 4,
   "metadata": {},
   "outputs": [
    {
     "name": "stdout",
     "output_type": "stream",
     "text": [
      "<class 'pandas.core.frame.DataFrame'>\n",
      "RangeIndex: 5714 entries, 0 to 5713\n",
      "Data columns (total 46 columns):\n",
      " #   Column                                    Non-Null Count  Dtype  \n",
      "---  ------                                    --------------  -----  \n",
      " 0   PERIODO                                   5714 non-null   object \n",
      " 1   TIPO EDUCATIVO                            5714 non-null   object \n",
      " 2   NIVEL EDUCATIVO                           5714 non-null   object \n",
      " 3   SERVICIO EDUCATIVO                        5714 non-null   object \n",
      " 4   CLAVE ENTIDAD                             5714 non-null   int64  \n",
      " 5   ENTIDAD                                   5714 non-null   object \n",
      " 6   CLAVE MUN./DEL.                           5714 non-null   int64  \n",
      " 7   MUNICIPIO                                 5714 non-null   object \n",
      " 8   CLAVE LOCALIDAD                           5714 non-null   int64  \n",
      " 9   LOCALIDAD                                 5714 non-null   object \n",
      " 10  CLAVE                                     5714 non-null   object \n",
      " 11  TURNO                                     5714 non-null   object \n",
      " 12  AMBITO                                    5714 non-null   object \n",
      " 13  CENTRO EDUCATIVO                          5714 non-null   object \n",
      " 14  CONTROL                                   5714 non-null   object \n",
      " 15  DOMICILIO                                 5713 non-null   object \n",
      " 16  NUM. EXTERIOR                             5251 non-null   object \n",
      " 17  ENTRE CALLE                               5713 non-null   object \n",
      " 18  Y CALLE                                   5713 non-null   object \n",
      " 19  CALLE POSTERIOR                           5290 non-null   object \n",
      " 20  CÃ“DIGO POSTAL                            5202 non-null   float64\n",
      " 21  LADA                                      5276 non-null   float64\n",
      " 22  TELÃ‰FONO                                 1576 non-null   object \n",
      " 23  CORREO ELECTRÃ“NICO                       369 non-null    object \n",
      " 24  TOTAL DE PERSONAL                         5714 non-null   int64  \n",
      " 25  PERSONAL MUJERES                          5714 non-null   int64  \n",
      " 26  PERSONAL HOMBRES                          5714 non-null   int64  \n",
      " 27  TOTAL DE DOCENTES                         5714 non-null   int64  \n",
      " 28  DOCENTES MUJERES                          5714 non-null   int64  \n",
      " 29  DOCENTES HOMBRES                          5714 non-null   int64  \n",
      " 30  TOTAL DE ALUMNOS                          5714 non-null   int64  \n",
      " 31  ALUMNOS MUJERES                           5714 non-null   int64  \n",
      " 32  ALUMNOS HOMBRES                           5714 non-null   int64  \n",
      " 33  TOTAL DE GRUPOS                           5714 non-null   int64  \n",
      " 34  AULAS EXISTENTES                          5714 non-null   int64  \n",
      " 35  AULAS EN USO                              5714 non-null   int64  \n",
      " 36  LABORATORIOS                              5714 non-null   int64  \n",
      " 37  TALLERES                                  5714 non-null   int64  \n",
      " 38  COMPUTADORAS EN OPERACIÃ“N                5714 non-null   int64  \n",
      " 39  COMPUTADORAS EN OPERACIÃ“N + INTERNET     5714 non-null   int64  \n",
      " 40  COMPUTADORAS EN OPERACIÃ“N USO EDUCATIVO  5714 non-null   int64  \n",
      " 41  ALTITUD (msnm)                            5713 non-null   float64\n",
      " 42  LONGITUD                                  5714 non-null   float64\n",
      " 43  LATITUD                                   5714 non-null   float64\n",
      " 44  LONGITUD (gms)                            5714 non-null   object \n",
      " 45  LATITUD (gms)                             5714 non-null   object \n",
      "dtypes: float64(5), int64(20), object(21)\n",
      "memory usage: 2.0+ MB\n"
     ]
    }
   ],
   "source": [
    "df.info()"
   ]
  },
  {
   "cell_type": "code",
   "execution_count": 165,
   "metadata": {},
   "outputs": [
    {
     "data": {
      "text/html": [
       "<div>\n",
       "<style scoped>\n",
       "    .dataframe tbody tr th:only-of-type {\n",
       "        vertical-align: middle;\n",
       "    }\n",
       "\n",
       "    .dataframe tbody tr th {\n",
       "        vertical-align: top;\n",
       "    }\n",
       "\n",
       "    .dataframe thead th {\n",
       "        text-align: right;\n",
       "    }\n",
       "</style>\n",
       "<table border=\"1\" class=\"dataframe\">\n",
       "  <thead>\n",
       "    <tr style=\"text-align: right;\">\n",
       "      <th></th>\n",
       "      <th>PERIODO</th>\n",
       "      <th>TIPO EDUCATIVO</th>\n",
       "      <th>NIVEL EDUCATIVO</th>\n",
       "      <th>SERVICIO EDUCATIVO</th>\n",
       "      <th>CLAVE ENTIDAD</th>\n",
       "      <th>ENTIDAD</th>\n",
       "      <th>CLAVE MUN./DEL.</th>\n",
       "      <th>MUNICIPIO</th>\n",
       "      <th>CLAVE LOCALIDAD</th>\n",
       "      <th>LOCALIDAD</th>\n",
       "      <th>...</th>\n",
       "      <th>LABORATORIOS</th>\n",
       "      <th>TALLERES</th>\n",
       "      <th>COMPUTADORAS EN OPERACIÃ“N</th>\n",
       "      <th>COMPUTADORAS EN OPERACIÃ“N + INTERNET</th>\n",
       "      <th>COMPUTADORAS EN OPERACIÃ“N USO EDUCATIVO</th>\n",
       "      <th>ALTITUD (msnm)</th>\n",
       "      <th>LONGITUD</th>\n",
       "      <th>LATITUD</th>\n",
       "      <th>LONGITUD (gms)</th>\n",
       "      <th>LATITUD (gms)</th>\n",
       "    </tr>\n",
       "  </thead>\n",
       "  <tbody>\n",
       "    <tr>\n",
       "      <th>0</th>\n",
       "      <td>2014-2015</td>\n",
       "      <td>EDUCACIÃ“N MEDIA SUPERIOR</td>\n",
       "      <td>BACHILLERATO</td>\n",
       "      <td>BACHILLERATO GENERAL</td>\n",
       "      <td>32</td>\n",
       "      <td>ZACATECAS</td>\n",
       "      <td>20</td>\n",
       "      <td>JEREZ</td>\n",
       "      <td>24</td>\n",
       "      <td>ERMITA DE GUADALUPE</td>\n",
       "      <td>...</td>\n",
       "      <td>3</td>\n",
       "      <td>0</td>\n",
       "      <td>64</td>\n",
       "      <td>20</td>\n",
       "      <td>54</td>\n",
       "      <td>1954.0</td>\n",
       "      <td>-103.032778</td>\n",
       "      <td>22.587778</td>\n",
       "      <td>-103:01:58.000</td>\n",
       "      <td>35:16.0</td>\n",
       "    </tr>\n",
       "    <tr>\n",
       "      <th>1</th>\n",
       "      <td>2014-2015</td>\n",
       "      <td>EDUCACIÃ“N MEDIA SUPERIOR</td>\n",
       "      <td>BACHILLERATO</td>\n",
       "      <td>BACHILLERATO GENERAL</td>\n",
       "      <td>32</td>\n",
       "      <td>ZACATECAS</td>\n",
       "      <td>42</td>\n",
       "      <td>SOMBRERETE</td>\n",
       "      <td>42</td>\n",
       "      <td>COLONIA GONZÃLEZ ORTEGA</td>\n",
       "      <td>...</td>\n",
       "      <td>1</td>\n",
       "      <td>1</td>\n",
       "      <td>15</td>\n",
       "      <td>11</td>\n",
       "      <td>11</td>\n",
       "      <td>2204.0</td>\n",
       "      <td>-103.453560</td>\n",
       "      <td>23.965750</td>\n",
       "      <td>-103:27:12.816</td>\n",
       "      <td>57:56.7</td>\n",
       "    </tr>\n",
       "    <tr>\n",
       "      <th>2</th>\n",
       "      <td>2014-2015</td>\n",
       "      <td>EDUCACIÃ“N MEDIA SUPERIOR</td>\n",
       "      <td>BACHILLERATO</td>\n",
       "      <td>BACHILLERATO GENERAL</td>\n",
       "      <td>32</td>\n",
       "      <td>ZACATECAS</td>\n",
       "      <td>36</td>\n",
       "      <td>OJOCALIENTE</td>\n",
       "      <td>1</td>\n",
       "      <td>OJOCALIENTE</td>\n",
       "      <td>...</td>\n",
       "      <td>2</td>\n",
       "      <td>4</td>\n",
       "      <td>37</td>\n",
       "      <td>32</td>\n",
       "      <td>32</td>\n",
       "      <td>2045.0</td>\n",
       "      <td>-102.246600</td>\n",
       "      <td>22.563320</td>\n",
       "      <td>-102:14:47.760</td>\n",
       "      <td>33:47.9</td>\n",
       "    </tr>\n",
       "    <tr>\n",
       "      <th>3</th>\n",
       "      <td>2014-2015</td>\n",
       "      <td>EDUCACIÃ“N MEDIA SUPERIOR</td>\n",
       "      <td>BACHILLERATO</td>\n",
       "      <td>BACHILLERATO GENERAL</td>\n",
       "      <td>32</td>\n",
       "      <td>ZACATECAS</td>\n",
       "      <td>38</td>\n",
       "      <td>PINOS</td>\n",
       "      <td>1</td>\n",
       "      <td>PINOS</td>\n",
       "      <td>...</td>\n",
       "      <td>3</td>\n",
       "      <td>0</td>\n",
       "      <td>25</td>\n",
       "      <td>0</td>\n",
       "      <td>21</td>\n",
       "      <td>2470.0</td>\n",
       "      <td>-101.578466</td>\n",
       "      <td>22.291599</td>\n",
       "      <td>-101:34:42.479</td>\n",
       "      <td>17:29.8</td>\n",
       "    </tr>\n",
       "    <tr>\n",
       "      <th>4</th>\n",
       "      <td>2014-2015</td>\n",
       "      <td>EDUCACIÃ“N MEDIA SUPERIOR</td>\n",
       "      <td>BACHILLERATO</td>\n",
       "      <td>BACHILLERATO GENERAL</td>\n",
       "      <td>32</td>\n",
       "      <td>ZACATECAS</td>\n",
       "      <td>40</td>\n",
       "      <td>SAIN ALTO</td>\n",
       "      <td>1</td>\n",
       "      <td>SAIN ALTO</td>\n",
       "      <td>...</td>\n",
       "      <td>3</td>\n",
       "      <td>3</td>\n",
       "      <td>47</td>\n",
       "      <td>28</td>\n",
       "      <td>40</td>\n",
       "      <td>2038.0</td>\n",
       "      <td>-103.262450</td>\n",
       "      <td>23.580480</td>\n",
       "      <td>-103:15:44.820</td>\n",
       "      <td>34:49.7</td>\n",
       "    </tr>\n",
       "  </tbody>\n",
       "</table>\n",
       "<p>5 rows × 46 columns</p>\n",
       "</div>"
      ],
      "text/plain": [
       "     PERIODO             TIPO EDUCATIVO NIVEL EDUCATIVO    SERVICIO EDUCATIVO  \\\n",
       "0  2014-2015  EDUCACIÃ“N MEDIA SUPERIOR    BACHILLERATO  BACHILLERATO GENERAL   \n",
       "1  2014-2015  EDUCACIÃ“N MEDIA SUPERIOR    BACHILLERATO  BACHILLERATO GENERAL   \n",
       "2  2014-2015  EDUCACIÃ“N MEDIA SUPERIOR    BACHILLERATO  BACHILLERATO GENERAL   \n",
       "3  2014-2015  EDUCACIÃ“N MEDIA SUPERIOR    BACHILLERATO  BACHILLERATO GENERAL   \n",
       "4  2014-2015  EDUCACIÃ“N MEDIA SUPERIOR    BACHILLERATO  BACHILLERATO GENERAL   \n",
       "\n",
       "   CLAVE ENTIDAD    ENTIDAD  CLAVE MUN./DEL.    MUNICIPIO  CLAVE LOCALIDAD  \\\n",
       "0             32  ZACATECAS               20        JEREZ               24   \n",
       "1             32  ZACATECAS               42   SOMBRERETE               42   \n",
       "2             32  ZACATECAS               36  OJOCALIENTE                1   \n",
       "3             32  ZACATECAS               38        PINOS                1   \n",
       "4             32  ZACATECAS               40    SAIN ALTO                1   \n",
       "\n",
       "                  LOCALIDAD  ... LABORATORIOS TALLERES  \\\n",
       "0       ERMITA DE GUADALUPE  ...            3        0   \n",
       "1  COLONIA GONZÃLEZ ORTEGA  ...            1        1   \n",
       "2               OJOCALIENTE  ...            2        4   \n",
       "3                     PINOS  ...            3        0   \n",
       "4                 SAIN ALTO  ...            3        3   \n",
       "\n",
       "  COMPUTADORAS EN OPERACIÃ“N COMPUTADORAS EN OPERACIÃ“N + INTERNET  \\\n",
       "0                         64                                    20   \n",
       "1                         15                                    11   \n",
       "2                         37                                    32   \n",
       "3                         25                                     0   \n",
       "4                         47                                    28   \n",
       "\n",
       "  COMPUTADORAS EN OPERACIÃ“N USO EDUCATIVO ALTITUD (msnm)    LONGITUD  \\\n",
       "0                                       54         1954.0 -103.032778   \n",
       "1                                       11         2204.0 -103.453560   \n",
       "2                                       32         2045.0 -102.246600   \n",
       "3                                       21         2470.0 -101.578466   \n",
       "4                                       40         2038.0 -103.262450   \n",
       "\n",
       "     LATITUD  LONGITUD (gms) LATITUD (gms)  \n",
       "0  22.587778  -103:01:58.000       35:16.0  \n",
       "1  23.965750  -103:27:12.816       57:56.7  \n",
       "2  22.563320  -102:14:47.760       33:47.9  \n",
       "3  22.291599  -101:34:42.479       17:29.8  \n",
       "4  23.580480  -103:15:44.820       34:49.7  \n",
       "\n",
       "[5 rows x 46 columns]"
      ]
     },
     "execution_count": 165,
     "metadata": {},
     "output_type": "execute_result"
    }
   ],
   "source": [
    "df.head()"
   ]
  },
  {
   "attachments": {},
   "cell_type": "markdown",
   "metadata": {},
   "source": [
    "We observe that our data needs a lot of cleaning. We start by cleaning the column names; lowering, removing spaces and errors caused by accents, etc. "
   ]
  },
  {
   "cell_type": "code",
   "execution_count": 89,
   "metadata": {},
   "outputs": [
    {
     "data": {
      "text/plain": [
       "Index(['PERIODO', 'TIPO EDUCATIVO', 'NIVEL EDUCATIVO', 'SERVICIO EDUCATIVO',\n",
       "       'CLAVE ENTIDAD', 'ENTIDAD', 'CLAVE MUN./DEL.', 'MUNICIPIO',\n",
       "       'CLAVE LOCALIDAD', 'LOCALIDAD', 'CLAVE', 'TURNO', 'AMBITO',\n",
       "       'CENTRO EDUCATIVO', 'CONTROL', 'DOMICILIO', 'NUM. EXTERIOR',\n",
       "       'ENTRE CALLE', 'Y CALLE', 'CALLE POSTERIOR', 'CÃ“DIGO POSTAL', 'LADA',\n",
       "       'TELÃ‰FONO', 'CORREO ELECTRÃ“NICO', 'TOTAL DE PERSONAL',\n",
       "       'PERSONAL MUJERES', 'PERSONAL HOMBRES', 'TOTAL DE DOCENTES',\n",
       "       'DOCENTES MUJERES', 'DOCENTES HOMBRES', 'TOTAL DE ALUMNOS',\n",
       "       'ALUMNOS MUJERES', 'ALUMNOS HOMBRES', 'TOTAL DE GRUPOS',\n",
       "       'AULAS EXISTENTES', 'AULAS EN USO', 'LABORATORIOS', 'TALLERES',\n",
       "       'COMPUTADORAS EN OPERACIÃ“N', 'COMPUTADORAS EN OPERACIÃ“N + INTERNET',\n",
       "       'COMPUTADORAS EN OPERACIÃ“N USO EDUCATIVO', 'ALTITUD (msnm)',\n",
       "       'LONGITUD', 'LATITUD', 'LONGITUD (gms)', 'LATITUD (gms)'],\n",
       "      dtype='object')"
      ]
     },
     "execution_count": 89,
     "metadata": {},
     "output_type": "execute_result"
    }
   ],
   "source": [
    "df.columns"
   ]
  },
  {
   "cell_type": "code",
   "execution_count": 30,
   "metadata": {},
   "outputs": [
    {
     "name": "stdout",
     "output_type": "stream",
     "text": [
      "Index(['periodo', 'tipo_educativo', 'nivel_educativo', 'servicio_educativo',\n",
      "       'clave_entidad', 'entidad', 'clave_municipal', 'municipio',\n",
      "       'clave_localidad', 'localidad', 'clave', 'turno', 'ambito',\n",
      "       'centro_educativo', 'control', 'domicilio', 'num_exterior',\n",
      "       'entre_calle', 'y_calle', 'calle_posterior', 'codigo_postal', 'lada',\n",
      "       'telefono', 'correo_electronico', 'total_de_personal',\n",
      "       'personal_mujeres', 'personal_hombres', 'total_de_docentes',\n",
      "       'docentes_mujeres', 'docentes_hombres', 'total_de_alumnos',\n",
      "       'alumnos_mujeres', 'alumnos_hombres', 'total_de_grupos',\n",
      "       'aulas_existentes', 'aulas_en_uso', 'laboratorios', 'talleres',\n",
      "       'computadoras_en_operacion', 'computadoras_en_operacion_mas_internet',\n",
      "       'computadoras_en_operacion_uso_educativo', 'altitud_msnm', 'longitud',\n",
      "       'latitud', 'longitud_gms', 'latitud_gms'],\n",
      "      dtype='object')\n"
     ]
    }
   ],
   "source": [
    "df.columns=[x.lower().replace(\" \",\"_\").replace(\"./del.\",\"icipal\").replace(\"ã‰\",\"e\").replace(\"ã“\",\"o\").replace(\"(\",\"\").replace(\")\",\"\").replace(\"m.\",\"m\").replace(\"+\",\"mas\") for x in df.columns]\n",
    "# Alternative:\n",
    "# df.columns=df.columns.str.lower().str.replace(\" \",\"_\").str.replace(\"./del.\",\"icipal\").str.replace(\"ã‰\",\"e\").str.replace(\"ã“\",\"o\").str.strip(\")\").str.strip(\"(\")\n",
    "print(df.columns)"
   ]
  },
  {
   "attachments": {},
   "cell_type": "markdown",
   "metadata": {},
   "source": [
    "Now, we look in each column to correct the bad characters such as Ã“ or Ã‘,these bad characters are caused by the use of accents and when importing or exporting the files."
   ]
  },
  {
   "cell_type": "code",
   "execution_count": 31,
   "metadata": {},
   "outputs": [],
   "source": [
    "string_columns=df.dtypes[df.dtypes==\"object\"].index"
   ]
  },
  {
   "cell_type": "code",
   "execution_count": 32,
   "metadata": {},
   "outputs": [
    { }
   ],
   "source": [
    "for col in string_columns:\n",
    "    print(df[col].unique())\n"
   ]
  },
  {
   "attachments": {},
   "cell_type": "markdown",
   "metadata": {},
   "source": [
    "We clean the incorrect characters:"
   ]
  },
  {
   "cell_type": "code",
   "execution_count": 33,
   "metadata": {},
   "outputs": [],
   "source": [
    "for col in string_columns:\n",
    "    df[col]=df[col].str.replace(\"Ã“\",\"O\").str.replace(\"Ã‰\",\"E\").str.replace(\"Ã\\x8d\",\"I\").str.replace(\"Ã\\x81\",\"A\").str.replace(\"Ã‘\",\"N\").str.replace(\"Ãš\",\"U\")"
   ]
  },
  {
   "cell_type": "code",
   "execution_count": 34,
   "metadata": {},
   "outputs": [
    {
     "name": "stdout",
     "output_type": "stream",
     "text": [
      "['2014-2015' '2013-2014']\n",
      "['EDUCACION MEDIA SUPERIOR' 'EDUCACION BASICA' 'EDUCACION ESPECIAL'\n",
      " 'CAPACITACION P. TRABAJO' 'EDUCACION SUPERIOR']\n",
      "['BACHILLERATO' 'PROFESIONAL TECNICO' 'PREESCOLAR' 'PRIMARIA' 'SECUNDARIA'\n",
      " 'CAM' 'USAER' 'C. P/TRABAJO' 'POSGRADO' 'LICENCIATURA'\n",
      " 'LICENCIATURA S.A.' 'POSGRADO S.A.']\n",
      "['BACHILLERATO GENERAL' 'BACHILLERATO TECNICO' 'PROFESIONAL TECNICO'\n",
      " 'PROFESIONAL TECNICO B' 'CENDI' 'PREESCOLAR GENERAL' 'PREESCOLAR CONAFE'\n",
      " 'PRIMARIA GENERAL' 'PRIMARIA CONAFE' 'SECUNDARIA GENERAL'\n",
      " 'SECUNDARIA TECNICA' 'TELESECUNDARIA' 'CAM' 'SECUNDARIA COMUNITARIA'\n",
      " 'USAER' 'FORMACION P. TRABAJO' 'SECUNDARIA MIGRANTE' 'ESPECIALIDAD'\n",
      " 'LIC. UNIV. Y TEC.' 'NORMAL' 'TECNICO SUPERIOR' 'LIC. UNIV. Y TEC. S.A.'\n",
      " 'DOCTORADO' 'MAESTRIA S.A.' 'MAESTRIA' 'ESPECIALIDAD S.A.'\n",
      " 'DOCTORADO S.A.']\n",
      "['ZACATECAS']\n",
      "['JEREZ' 'SOMBRERETE' 'OJOCALIENTE' 'PINOS' 'SAIN ALTO' 'CHALCHIHUITES'\n",
      " 'APOZOL' 'APULCO' 'ATOLINGA' 'BENITO JUAREZ' 'CANITAS DE FELIPE PESCADOR'\n",
      " 'CUAUHTEMOC' 'TRINIDAD GARCIA DE LA CADENA' 'GENARO CODINA'\n",
      " 'GENERAL ENRIQUE ESTRADA' 'EL PLATEADO DE JOAQUIN AMARO' 'LORETO'\n",
      " 'LUIS MOYA' 'MEZQUITAL DEL ORO' 'MIGUEL AUZA' 'MORELOS'\n",
      " 'NORIA DE ANGELES' 'PANUCO' 'SANTA MARIA DE LA PAZ' 'VILLA GARCIA'\n",
      " 'VALPARAISO' 'GUADALUPE' 'JIMENEZ DEL TEUL' 'MONTE ESCOBEDO' 'ZACATECAS'\n",
      " 'VILLA DE COS' 'RIO GRANDE' 'TRANCOSO' 'TABASCO' 'HUANUSCO' 'EL SALVADOR'\n",
      " 'FRESNILLO' 'NOCHISTLAN DE MEJIA' 'GENERAL FRANCISCO R. MURGUIA'\n",
      " 'MAZAPIL' 'CALERA' 'VILLA HIDALGO' 'VETAGRANDE' 'TEUL DE GONZALEZ ORTEGA'\n",
      " 'GENERAL PANFILO NATERA' 'VILLANUEVA' 'TLALTENANGO DE SANCHEZ ROMAN'\n",
      " 'JUAN ALDAMA' 'JALPA' 'SUSTICACAN' 'TEPECHITLAN' 'TEPETONGO'\n",
      " 'VILLA GONZALEZ ORTEGA' 'CONCEPCION DEL ORO' 'MOMAX' 'JUCHIPILA'\n",
      " 'MELCHOR OCAMPO' 'MOYAHUA DE ESTRADA']\n",
      "['ERMITA DE GUADALUPE' 'COLONIA GONZALEZ ORTEGA' 'OJOCALIENTE' ...\n",
      " 'RANCHO LOS CUATES' 'LOS HORNILLOS' 'SALTO DE SAN JUAN']\n",
      "['32ECB0005E' '32ECB0006D' '32ECB0007C' ... '32PDI0020V' '32PDI0021U'\n",
      " '32PDI0022T']\n",
      "['MATUTINO' 'VESPERTINO' 'DISCONTINUO' 'CONTINUO (TIEMPO COMPLETO)'\n",
      " 'NOCTURNO']\n",
      "['RURAL' 'URBANA']\n",
      "['COLEGIO DE BACHILLERES' 'COLEGIO DE BACHILLERES OJOCALIENTE'\n",
      " 'COLEGIO DE BACHILLERES PINOS' ... 'GOTITA DE AGUA A.C'\n",
      " 'INSTITUTO EDISON A.C' 'GUARDERIA INFANTIL MONTESSORI, S. C.']\n",
      "['PUBLICO' 'PRIVADO']\n",
      "['ERMITA DE GUADALUPE' 'AVENIDA JAVIER MINAS' 'PROLONGACION TERAN ORIENTE'\n",
      " ... 'FRANCISCO J. MUJICA' 'AVENIDA RESTAURADORES'\n",
      " 'AVENIDA 5 SENORES ESQUINA PENOLES']\n",
      "[nan 'SN' '203' '1' '3' '95' '102' 'DOMICILIO CONOCIDO' '503' '111' '15'\n",
      " '101' '91' '110' '7' '9' '6' '2-C' '300' '96' '13' '10' '16' '801' '125'\n",
      " '218' '123' '18' '22' '329' '53' '1011' '1-A' '36' '5' '193' '2' '12'\n",
      " '710' '4' '109' '85' '326' '23' '21' '50' '24' '76 A' '20' '26' '67' '70'\n",
      " '158' '246' '30' '601' '48' '211' '1118' '116' '111 BIS' '301' '17' '505'\n",
      " '2007' '34' '129' '14' '10-P' '47' '11' '25' '40' '27' '400' '114 A'\n",
      " '100' '900 ORIENTE' '104' '201' '105' '314' '72' '32' '42' '35' '80' '37'\n",
      " '9-B' '8-A' '302' '28' '103' '210' '612' '33' '1105' '112' '56' '44'\n",
      " '502' '61' '45' '126' '46' '318' '204' '602 ORIENTE' '20-C' '200' '127'\n",
      " '107' '1000' '41' '8' '140' '232' '3-B' '120' '68' '305' '59' '54' '31'\n",
      " '1006' '62' '19' '410' '119' '214' '141' '29' '207' '83' '1 BIS' '93'\n",
      " '43' '94' '76' '405' '343' '114' '403' '51' '155' '115' '27-A' '202' '57'\n",
      " '213' '515' '139' '88' '814' '128' '86-A' '605 PONIENTE' '38' '1001'\n",
      " '108' '110-A' '413' '101 A Y B' '802' '52' '401' '123 A' '73' '122' '64'\n",
      " '51-B' '80-A' '514' '468' '124' '901' '206' '121' '402' '782' '1302'\n",
      " '304' '249' '170' '263' '900' '501' '118' '65' '458' '148' '55' '307 UR'\n",
      " '101 NORTE' '324' '147' '77' '212' '323' '117' '81' '49' '106' '221'\n",
      " '113-A' '146' '60' '145' '311' '113' '501 ORIENTE' '607' '156' '313'\n",
      " '111 B' '208' '27 PONIENTE' '2, A.P. 150' '256' '142' '500' '730' 'S/N'\n",
      " '205 INTERIOR B' '403 NORTE A.P. 9' '802 SUR' '920' '1400' '172' '555'\n",
      " '84' 's/n' '39' '136' '10-A' '89' '9-A' '162' '223' '2-A' '10:00 AM'\n",
      " '5 INTERIOR 2' '171 ALTOS INT. B' '23-A' '1154' '533' '63' '205' '724'\n",
      " '103 SUR' '93 A' '12-B' '4 PISO 2' '419, PISO 2 Y 3' '107 INTERIOR 1'\n",
      " '335-A' '3-A' '330' '243-B' '10 INTERIOR 3' '4-B' '312-2' '33-SUR' '14-A'\n",
      " '163' '13 PLANTA BAJA' '5 INTERIOR 1' '113-B' '105 ALTOS' '303' '510-A'\n",
      " '630' '428-7' '432' '1 INTERIOR 4' '13-A' '630 B' '49-B PISO 2' '524-A'\n",
      " '1 INTERIOR 1' '5-B' '707' 'SN TERIOR 1' '92']\n",
      "['NINGUNO' 'CIRCUITO NORIA' 'AVENIDA MORELOS' 'AVENIDA MEXICO'\n",
      " 'CARR. ZACATECAS-FRESNILLO' 'CALLEJON DEL LUCERO' 'CARRERAS'\n",
      " 'CAMINO AL HUEJOTE' 'CALLE 19 DE MARZO' 'CALLE RODRIGUEZ'\n",
      " '16 DE SEPTIEMBRRE' '5 DE MAYO' 'CONSTITUCION' 'RIO PANUCO'\n",
      " 'CALLE LA ALBARRADA' 'CALLEJON CARRANZA' 'EL BOTE' 'SIN NOMBRE'\n",
      " 'BENITO JUAREZ' nan 'CALZ. PEDRO CORONEL' 'ZARAGOZA' 'GONZALEZ ORTEGA'\n",
      " 'VIALIDAD ARROYO DE LA PLATA' 'CHIRIMOYA' 'VILLAS DE GUADALUPE'\n",
      " 'DE LA LUZ' 'PARQUE ARROYO DE LA PLATA' 'JULIO RUELA' 'MORELOS'\n",
      " 'AQUILES SERDAN' 'PRIVADA VICENTE GUERRERO' 'ARROYO DE LA PLATA'\n",
      " 'JUAN DE TOLOSA' 'FRACCIONAMIENTO LOMAS DE GALICIA' 'AVENIDA JUAREZ'\n",
      " 'CALLEJON LANCASTER' 'HIDALGO' 'ZACATECAS' 'HECTOR INFANTE PARRA'\n",
      " 'ANDADOR EPAZOTE' 'TULIPANES' 'HACIENDA DE SAN AGUSTIN' 'LAS TORRES'\n",
      " 'AVENIDA UNIVERSIDAD' 'AVENIDA HIDALGO' 'INDEPENDENCIA' 'DEL ANGEL'\n",
      " 'CALLE ARTICULO 2' 'MAR PACIFICO' 'GUERRA DEL MIXTON' 'ANTONIO RIOS'\n",
      " 'SIERRA NEVADA' 'CALLE ZARAGOZA' 'CALLE ALVARO OBREGON'\n",
      " 'CALLE JOSE REYES' 'CALLE VENUSTIANO CARRANZA'\n",
      " 'CALLE VENUSTIANO CARRANZA NORTE' 'CALLE MEXICO' 'CALLE ZACATECAS'\n",
      " 'CALLE ABASOLO' 'CALLE SOLIDARIDAD' 'CALLE GONZALEZ ORTEGA'\n",
      " 'CALLE PRIMAVERA' 'CALLE NINO ARTILLERO' 'CALLE VICTORIA'\n",
      " 'CALLE 16 DE SEPTIEMBRE' 'CALLE FRANCISCO VILLA' 'CALLEJON DEL REFUGIO'\n",
      " 'CALLE JOSE MARIA CORELLA' 'EMILIANO ZAPATA' 'PRIVADA 20 DE NOVIEMBRE'\n",
      " 'CALLE FRANCISCO I. MADERO SUR' 'AVENIDA ESMERLDA' 'CERRO DEL PAVO'\n",
      " 'BARBIQUEJO' 'CALLE PLANETA TIERRA' 'CALLE LOPEZ VELARDE' 'CALLE MORELOS'\n",
      " 'CALLE NAYARIT' 'ALLENDE' 'RIO BALSAS' 'PLAN DE DE GUADALUPE'\n",
      " 'CALLE PALMA' 'CERRO PRIETO' 'TERRACERIA SAN DIONISIO'\n",
      " 'CALLE VICENTE ESCUDERO' 'CARRETERA ESTANCIA DE ANIMAS'\n",
      " 'B. HOMBRES ILUSTRES' 'CALLE CUAHUTEMOC' 'CERRO' 'CERRO DEL PADRE'\n",
      " 'AV TIERRA Y LIBERTAD' 'CALLE ENRIQUE ESTRADA' '20 DE NOVIEMBRE'\n",
      " 'GUADALUPE VICTORIA' 'CALLE TEOTIHUACAN' 'CERRO DE LOS HONGOS' 'SOMALEA'\n",
      " 'VALPARAISO' 'GERONIMO DE AGUILAR' 'GARCIA SALINAS' 'ADOLFO LOPEZ MATEOS'\n",
      " 'PRIVADA MARVER' 'AVENIDA BONIFIACIO FALCON' 'CALLE FERROCARIL SUR'\n",
      " 'CALLE FRANCISCO I. MADERO' 'CALLEJON EL REBOTE' 'CALLE PLATA' 'GRANADA'\n",
      " 'FRACCIONAMIENTO EUROPA' 'CALLE LIBERTAD NORTE' 'CALLEJON TIA SIMONA'\n",
      " 'CALLE BENITO JUAREZ' 'TRABAJADORES DE TELEGRAFOS'\n",
      " 'CALLE PENSADOR MEXICANO' '5 HERMANOS' 'CALLE HIDALGO'\n",
      " 'FRANCISCO I.MADERO' 'CALLE FERNANDO MONTES' 'CALLE PEDRO MORENO'\n",
      " 'CALLE FAUSTINO OLIVARES' 'CALLE CRUZ VERDE' 'OBELISCO' 'ARTES'\n",
      " 'CALLE DIVISON DEL NORTE' 'CALLE ADOLFO LOPEZ MATEOS'\n",
      " 'CALLE RIO AMAZONES' 'CALLE RAMON LOPEZ VELARDE'\n",
      " 'CALLE JUAN PEREZ VAZQUEZ' 'CALLE COLEGIO MILITAR' 'CALLE LOPEZ MATEOS'\n",
      " 'CALLE LAS FLORES' 'CALLE RIO USUMACINTA' 'CALLE COLORADO'\n",
      " 'CALLE GALEANA' 'CALLE MIGUEL HIDALGO' 'CALLE JOSEFA ORTIZ DE DOMINGUEZ'\n",
      " 'AVENIDA PLATA' 'MIGUEL HIDALGO' 'CALLE INDEPENDENCIA' 'CALLE 5 DE MAYO'\n",
      " 'CALLE ANTONIO DE MENDOZA' 'CALLE LA PAZA' 'ESPERANZA QUEZADA'\n",
      " 'VILLA DEL ALAMO' 'CALLE FILOMENO VEGA' 'ESQUINA CAMINO REAL'\n",
      " 'COSTADO ORIENTE PRIMARIA' 'AL SUR DE LA PRIMARIA' 'VIALIDAD SIGLO XXI'\n",
      " 'EL CALVARIO' 'ESQUINA CON CALLE URANO' 'CALLE MINA'\n",
      " 'CALLE LAZARO CARDENAS' 'CALLE DEL BRAVO' 'CALLE 9 DE MAYO'\n",
      " 'AVENIDA NORTE' 'ZONA INDUSTRIAL' 'FERROCARRIL' 'JUSTO SIERRA'\n",
      " 'CALLE LAMARTCK' 'CALLE ROGELIO GUZMAN' 'DEL AGORA' 'CALLE GOMEZ FARIAS'\n",
      " 'CALLE REFORMA' 'CALLE CRESTON' 'PURA SANGRE' 'MATAMOROS'\n",
      " 'MINERAL DEL PLOMO' 'CALLE ALTAMIRANO' 'CALLE AZUCENA'\n",
      " 'CARRETERA A PEDREGOSO-PINOS' 'CALZADA SOLIDARIDAD' 'RUISENORES'\n",
      " 'CALLE GUANTANAMO' 'CALLEJON DEL LAZO' 'PROLONGACION GARCIA DE LA C'\n",
      " 'QUEBRADILLA' 'ALVARO OBREGON' 'CRUCERO PRIMAVERA' 'ARROYO DEL DIEZMO'\n",
      " 'VENUSTIANO CARRANZA' 'LA VICTORIA' 'CALLE ANGELES' 'PRIVADA LAS COLINAS'\n",
      " 'CRESTON' 'CALLE EMILIANO ZAPATA NORTE' 'LABORATORISTAS'\n",
      " 'AVENIDA PEDRO CORONEL' 'REFORMA' 'CALLE DEL CONSUELO'\n",
      " 'PLAN DE GUADALUPE' 'APOZOL' 'CEDRO' 'VILLA DE GUADALUPE' 'ALBINO'\n",
      " 'CALLE VICTOR ROSALES' 'SONORA' 'CALLE RISCO' '1RA. DE MAYO' 'DOMINICOS'\n",
      " 'FCCTO. BARROS SIERRA' 'CERRO DEL PAPANTON' 'CALLE SILVESTRE REVUELTAS'\n",
      " 'CALLE MESOPOTAMIA' 'PRIVADA RUIZ CORTINEZ' 'CALLE EL FORTIN'\n",
      " 'CALLE CRATER' 'ECONOMIA POLITICA' 'CALLE LUCIO BLANCO' 'DEL JINETE'\n",
      " 'PROLONGACION ZARAGOZA' 'CALLE COLON' 'CALLEJON DE RAMOS' 'PLAZA GARCIA'\n",
      " 'CALLE LOMAS DE CHAPULTEPEC' 'CORAZA FELIX' 'AVENIDA JARDINES DE SAUCEDA'\n",
      " 'CALLE LAMARCK' 'CALLE UNION' 'MEDINA' 'JARDIN MORELOS' 'COLEGIO MILITAR'\n",
      " 'CALLE REVOLUCION' 'DEL REBOTE' 'RODRIGUEZ ELIAS'\n",
      " 'CALLE FRANCISCO I MADERO' 'CHAVEZ FRANCO' 'REAL DE POTOSI' 'MADERO'\n",
      " 'NINOS HEROES' 'CALLE VICENTE GUERRERO'\n",
      " 'CALLE JOSE MARIA MORELOS Y PAVON' 'CALLEJON DEL TENDEDERO' 'FRESNILLO'\n",
      " 'JOSE REYES' 'VIALIDAD VIRGEN DEL PATROCINIO' 'CERRO DE AMECA'\n",
      " 'CALLE MANUEL ACUNA' 'MANUEL M PONCE' 'CALLE GUADALUPE VICTORIA'\n",
      " 'CALLE 21 DE MARZO' 'CALLE MONTESA' 'CALLE OBREGON'\n",
      " 'CALLE CRISTOBAL COLON' 'JUNTO AL CORREDERO'\n",
      " 'CARRETERA GUADALAJARA-SALTILLO' 'CALLE JUAREZ' 'ENRIQUE ESTRADA'\n",
      " 'PRIVADA LA ESCONDIDA' 'MANUEL DOBLADO' 'AVENIDA PANFILO NATERA'\n",
      " 'CALLE ARCADIO HERRERA' 'PRIVADA BEGONIAS' 'J ENCARNACION ORTIZ'\n",
      " 'PASEO DEL MINERAL' 'MERCENARIOS' 'PENSADOR MEXICANO'\n",
      " 'PRIVADA REVOLUCION' 'LUIS REYES' 'GUERRERO'\n",
      " 'CARRETERA SANTA MARIA LORETO' 'BLVD.HOMBRES ILUSTRES' 'CICUITO LA FERIA'\n",
      " 'SOLIDARIDAD' 'LOMA BAJA' 'LAGUNILLA' 'PEDRO CORONEL' 'IGNACIO ZARAGOZA'\n",
      " 'TOMAS MOJARRO' 'CARRILLO PUERTO' 'CARRETERA EXFEDERAL' 'RAFAEL RAMIREZ'\n",
      " 'CALLE DEL SEGURO' 'CAMINO DEL HUEJOTE' 'CUAUHTEMOC' 'CASCADA'\n",
      " 'JOSE MARIA GALLARDO' 'AVENIDA SOLIDARIDAD' 'CALLE CONSTITUCION'\n",
      " 'CALLEJON DE LA UNION' '2DA DE INSURGENTES' 'LAGO PATZCUARO'\n",
      " 'BELLA VISTA' 'CARRETERA LORETO ZACATECAS' 'CALLE 10 DE MAYO'\n",
      " 'PLAZA PRINCIPAL' 'CALLE DEL REBOTE' 'CALLE VALLE DE LORETO' 'AURORA'\n",
      " 'ESQUINA REVOLUCION' 'PROLONGACION 16 DE SEPTIEMBRE' '5 DE FEBRERO'\n",
      " 'AV. DE LAS TORRES' 'VICTOR ROSALES' 'FRANCISCO VILLA'\n",
      " 'CALLE IGNACIO ZARAGOZA' 'ALAMEDA' 'TERRENO BALDIO EJIDAL'\n",
      " 'VALLE DE LORETO' 'LUIS DE LA ROSA' 'AVENIDA MORADORES' 'LIBERTAD'\n",
      " 'CASA GRANDE' 'PROLONGACION RAYON' 'MARGARITO ALVAREZ LOPEZ'\n",
      " 'BONIFACIO FALCON' 'CENTENARIO' 'JUAN PABLO II' 'LOPEZ VELARDE'\n",
      " 'LOPEZ RAYON' 'LAS HUERTAS' 'INSURGENTES' 'I.M. ALTAMIRANO'\n",
      " 'NINO ARTILLERO' 'PANTEON' 'CALLE LEOBARDO C. RUIZ'\n",
      " 'CALLEJON MARGARITA MAZA DE JUAREZ' 'ALAMEDA SUR' 'SINDICATO'\n",
      " 'ARQUITECTOS' 'DEL COBRE' 'SAN JUAN' 'SANTOS DEGOLLADO'\n",
      " 'PROLONGACION JUAREZ' 'CALLEJON DONCELES' 'JUAREZ'\n",
      " 'ESQ. CALLEJON DEL NINO' 'ANALCO' 'BOULEVARD LOPEZ MATEOS'\n",
      " 'AVENIDA ABASOLO' 'CALLE PRIMO VERDAD' 'COL. LOMAS DE CONVENTO'\n",
      " 'CONTINUACION OLMOS' 'VERGEL NUEVO' 'PRIVADA DEL REFUGIO DAVILA'\n",
      " 'AVENIDA PREPARATORIA' 'RIO CHAPALA' 'PRIMERA DE ALTAPALMIRA'\n",
      " 'BLVD LOPEZ MATEOS' 'CALLE DE LA HUERTA' 'AVENIDA ZARAGOZA' 'CHEPINQUE'\n",
      " 'FRANCISCO MUJICA' 'CALLEJON DEL BORREGO' 'REPUBLICA DE CHILE' 'CALLE 1'\n",
      " 'ABASOLO' 'CALLEJON DEL AGORA' 'CRUZ ROJA' 'PLATEROS' 'REVOLUCION'\n",
      " 'NICOLAS BRAVO' 'JOSEFA ORTIZ DE DOMINGUEZ' 'EL VERGEL' 'CALLE OCAMPO'\n",
      " 'CALLE SAN ANTONIO' 'AVENIDA SIERRA DE LOS HONGOS' 'PASAJE LIBERTAD'\n",
      " 'CALLE BATALLA DE ZACATECAS' 'ALTAMIRANO' 'PROGRESO'\n",
      " 'AVENIDA COLEGIO MILITAR' 'CALLE ACAPULCO' 'CALLE GARCIA SALINAS'\n",
      " 'CARRETERA ZACATECAS-GUADALAJARA KM.6 EJI' 'BOULEVARD LOPEZ PORTILLO'\n",
      " 'AV TORREON' 'AVENIDA CHURUBUSCO' 'SICOMORO' 'BLVRD LOPEZ PORTILLO'\n",
      " 'CALLEJON DE QUIJANO' 'CALLE DE LA ENFERMERIA' 'JOSE MARIA MORELOS'\n",
      " 'CARR-GUADALAJARA-SALTILLO KM. 121' 'IRLANDA' 'PLAZUELA DEL VIVAC'\n",
      " 'CALLE ANCHA' 'LOS PRADOS' 'CARRETERA JEREZ' 'CALZADA UNIVERSIDAD'\n",
      " 'HOMBRES ILUSTRES' 'CARRETERA ZACATECAS-FRESNILLO' 'RAZA CAXCANA'\n",
      " 'SAIN ALTO' 'DIAZ MIRON' 'MIGUEL ALEMAN' 'COLONIA HIDRAULICA'\n",
      " 'CALZADA SOLIDARIDAD S/N' 'RAFAEL SANCHEZ' 'CARRETERA LA BUFA'\n",
      " 'SANTA ROSA' 'ZACATECAS GUADALAJARA' 'CARRETERA A LA BUFA'\n",
      " 'CALLE COMERCIO Y ADMON NO.1' 'CARRETERA PANAMERICANA KM. 31.5'\n",
      " 'UNIDAD UNIVERSITARIA II' 'CALZADA REVOLUCION MEXICANA' 'TENDEDERO'\n",
      " 'POZO HONDO' 'AV. LAS TORRES' 'UNIVERSIDAD' 'CAMINO A LA NORIA'\n",
      " 'PREPARATORIA' 'PARALELA AL BOULEVARD LOPEZ PORTILLO'\n",
      " 'EDIFICIOS DE POSGRADO' 'SAN MIGUEL' 'AV. MEXICO' 'SAMUEL MORSE'\n",
      " 'BABILONIA' 'MOCTEZUMA' 'GUATEMALA' 'CONVENTO DE SAN FRANCISCO'\n",
      " 'CALLE 20 DE NOVIEMBRE' 'SOMALIA' 'CARRETERA A VETAGRANDE'\n",
      " 'CALLE MINA SIERENA' 'LA ENCANTADA' 'CALLE MINA SIRENA'\n",
      " 'AVENIDA NETZAHUALCOYOTL' 'AVENIDA DE LAS TORRES' 'LIBRAMIENTO JALPA'\n",
      " 'FRANCISCO GARCIA SALINAS' 'H. COLEGIO MILITAR' 'GOMEZ FARIAS'\n",
      " 'CARRETERA FRESNILLO PLATEROS' 'CARRANZA' 'RIO NAZAS'\n",
      " 'CALLEJON CUAUHTEMOC' 'CALLE SANTA MARTHA' 'CALLEJON DEL MORO'\n",
      " 'BLVD. LOPEZ PORTILLO' 'CARRETERA JALPA-GUADALAJARA'\n",
      " 'CALLE DE LA CONSTITUCION' 'CALLE REAL DE SAN RAMON' 'CALLE DEL REPOSO'\n",
      " 'CALLE YUCATAN' 'CALLE ALDAMA' 'HACIENDO DEL ASTILLERO'\n",
      " 'BOULEVARD SALIDA A ZACATECAS']\n",
      "['NINGUNO' 'NUESTRA SENORA DE LA ASUNCION' 'CALLE VENTURA SALAZAR'\n",
      " 'SOLIDARIDAD' 'ANTIGUA CARR. PANAMERICANA' 'CALLE DE LA LOMA'\n",
      " 'PROLONGACION GONZALEZ ORTEGA' 'INSURGENTES' 'CALLE LEOBARDO REYNOSO'\n",
      " 'JARDIN JUAREZ' '20 DE NOVIEMBRE' 'ANTONIO DONALI' 'CALLEJON DE PENA'\n",
      " 'PRIVADA BEGONIAS' 'PEDRO RUIZ GONZALEZ' nan 'AV. BERNARDEZ'\n",
      " 'AQUILES SERDAN' 'MORELOS' 'TRANSITO PESADO' 'SAN MARCOS'\n",
      " 'PRIVADA SANTA BERENICE' '5 DE MAYO' 'J.ENCARNACION ORTIZ'\n",
      " 'ESTACIONAMIENTO PARQUE ARROYO DE LA PLAT' 'CALLE 3' 'HIDALGO'\n",
      " 'FERROCARRIL' 'BOULEVARD BICENTENARIO' 'CALZADA SOLIDARIDAD'\n",
      " 'JARDIN DE LA MADRE' 'GARCIA DE LA CADENA' 'CAUSA Y EFECTO'\n",
      " 'ANDADOR SAVILA' 'ALELIES' 'LIBERTAD' 'JUVENTUD' 'AVENIDA RIO BRAVO'\n",
      " 'CALLE LAS FLORES' 'TELEGRAFOS' 'CALLE ARTICULO 3' 'MAR EGEO'\n",
      " 'TEOCALTICHE' 'PRIMITIVO FAVELA' 'SIERRA MAZAMITLA'\n",
      " 'CALLE VICENTE GUERRERO' 'CALLE LOPEZ MATEOS' 'CALLE EMILIANO ZAPATA'\n",
      " 'CALLE MIGUEL HIDALGO SUR' 'CALLE PERU' 'CALLE MATAMOROS'\n",
      " 'CALLE INSURGENTES' 'ESCUELA PRIMARIA' 'CALLE COLINA' 'CALLE 19 DE MARZO'\n",
      " 'NINOS HEROES' 'CALLE INDEPENDENCIA' 'CALLE ZAPATA' 'CALLE PEDRO DEGANTE'\n",
      " 'CALLE ALVARO OBREGON' 'AVILA CAMACHO' 'CALLE 5 DE FEBRERO'\n",
      " 'CALLE VICENTE GUERRERO NORTE' 'JARDINES' 'CABRETOS' 'CALLE SATURNO'\n",
      " 'CALLE OJOCALIENTE' 'CALLE AGUASCALIENTES' 'TEQUESQUITE' 'RIO GRANDE'\n",
      " 'PASEO DEL MINERAL' 'CALLE PINO' 'CERRO PROANO' 'ANTONIO DOVALI'\n",
      " 'EXCELSIOR' 'CALLE MADERO' 'ATOLINGA' 'IGNACIO ZARAGOZA'\n",
      " 'PRIV. SANTA BERENICE' 'OTILIO MONTANO' 'CALLE 23 DE MARZO'\n",
      " 'JUAN DE TOLOSA' 'JUAN ALDAMA' 'SECUNDARIA NUMERO 62' 'AMECA'\n",
      " 'VALENCIANA' 'ALFONSO ALVAREZ' 'SANTOS DEGOLLADO' 'FRANCISCO I. MADERO'\n",
      " 'PRIVADA ORQUIDEAS' 'CALLE ANTIGUA PLAZA DE TOROS'\n",
      " 'CALLE ENRIQUE ESTRADA' 'CALLE JUAREZ' 'PROLONGACION NINOS HEROES'\n",
      " 'CALLE CRISTOBAL COLON' 'CALLE JUAN DE TOLOSA' 'ALMEIRA'\n",
      " 'CALLE ESPARRAGOS' 'CALLE ALVARO OBREGON NORTE'\n",
      " 'CALLEJON DE LAS TROMPADAS' 'CALLE RUIZ GONZALEZ'\n",
      " 'TRABAJADORES DEL AGRARIO' 'PENOLES' 'CALLE GALEANA'\n",
      " 'CALLE JUAN DE LA BARRERA' 'CALLE CERVANTES CORONA' 'CALLE ATOTONILCO'\n",
      " 'GLADIOLAS' 'REPOSO' 'CALLE 10 DE JUNIO' 'CALLE GONZALO ROBLES'\n",
      " 'CALLE UNIDAD DEPORTIVA' 'CALLE HIDALGO' 'CALLE SIFUENTES MORENO'\n",
      " 'CALLE ZACATECAS' 'CALLE ZARAGOZA' 'CALLE TLALOC' 'BOULEVARD'\n",
      " 'CALLE LOPEZ PORTILLO' 'CALLE 20 DE NOVIEMBRE' 'CALLE 2 DE ABRIL'\n",
      " 'CALLE MORELOS' 'NARANJO' 'BENITO JUAREZ' 'EJIDO EMILIANO ZAPATA'\n",
      " 'CALLE FRANCISCO I. MADERO' 'PROLONGACION LIBERTAD'\n",
      " 'VILLA NTRA. SRA. ASCENCION' 'CALLE SAN JOSE DE NORIAS DE GUADALUPE'\n",
      " 'CAMINO PUEBLO VIEJO' 'COLON' 'CAMINO A VIRGINIA'\n",
      " 'VIALIDAD VIRGEN DEL PATROCINIO' 'EL JORDAN' 'CALLE ALLENDE'\n",
      " 'CALLE PIPILA' 'CALLE RIO LA CHICHOCA' 'CARRETERA TIERRA BLANCA-ESTANCIA'\n",
      " 'VIALIDAD ARROYO DE LA PLATA' 'COLEGIO MILITAR' 'GUANAJUATO'\n",
      " 'AVENIDA FRANCISCO GARCIA SALINAS' 'CALLE BENITO JUAREZ'\n",
      " 'CALLE 5 DE MAYO' 'BOULEVARD LOPEZ MATEOS' 'CALLE SIGLO XXI'\n",
      " 'CALLE NINOS HEROES' 'CALLE RISCO' 'GUADALUPE' '5 DE FEBRERO'\n",
      " 'MINERAL DEL ZINC' 'GOMEZ FARIAS' 'AVENIDA MEXICO' 'JILGUEROS'\n",
      " 'CALLE GRANMA' 'LEOBARDO REYNOSO' 'CALLEJON DE SAN AGUSTIN'\n",
      " 'DR DIEGO CUEVAS CANSINO' 'ZARAGOZA' 'REFORMA' 'SEGUNDA DE SAN LUIS'\n",
      " 'CALLE ESMERALDA' 'PINO CAMARA' 'CALLE RIO DE JANEIRO' 'ANDES' 'RISCO'\n",
      " 'CALLE BENITO JUAREZ SUR' 'IXTAPAYOAPAN' 'CALLE RESTAURADORES'\n",
      " 'LAGUNILLA' 'CALLE SAN ANTONIO' 'VETAGRANDE' 'LAUREL'\n",
      " '1RA PRIV. VILLA ALAMO' 'CALLE FELIPE ANGELES' 'LA FE' 'CALLE CANTIL'\n",
      " 'SR SIXTO CAMARILLO' 'AGUSTINOS' 'PASCUAL ORTIZ RUBIO'\n",
      " 'CERRO DE LAS CAMPANAS' 'CALLE JUVENTINO ROSAS' 'RIO EUFRATES'\n",
      " 'CALLE FAUSTO OLIVARES' 'CALLE IGNACIO MANUEL ALTAMIRANO' 'AV. MEXICO'\n",
      " 'CALLE CRESTON' 'DIEGO RIVERA' 'CALLE DIVISION DEL NORTE' 'EL ZARAPE'\n",
      " 'SANTA ANA' 'CALLE FLORES' 'MERCEDITAS' 'ABASOLO' 'SERRANO FELIX'\n",
      " 'BUGAMBILIAS' 'JAVIER SOLIS' 'CARLOS LINEO' 'CALLE ANCON' 'DONATO GUERRA'\n",
      " 'AVENIDA HIDALGO' 'CAMINO A VETAGRANDE' '2DA. LOMA DE SN MARCOS'\n",
      " 'MARTINEZ LOPEZ' 'ARROYO' 'ENSENADA' 'JIMENEZ' 'AV. NACIONAL'\n",
      " 'CHAPULTEPEC' 'LIBRAMIENTO NORTE' 'CALLE ITURBIDE' 'ESCUELA NORMAL'\n",
      " 'EL CANAL' 'RIO BRAVO' 'VICENTE GUERRERO' 'VIALIDAD SIGLO XXI'\n",
      " 'CERRO DE LOS HOMGOS' 'CALLE DE LOS ANGELES'\n",
      " 'CARRETERA A UNION Y PROGRESO' 'CALLE COLON' 'CALLE MONTES DE OCA'\n",
      " 'CALLE DEL TRABAJO' 'PRIVADA MORELOS' 'CALLE VENUSTIANO CARRANZA'\n",
      " 'CALLE PEDRO RUIZ GONZALEZ' 'CALLE FRANCISCO VILLA'\n",
      " 'CALLE LUIS DE LA ROSA' 'ALVARO OBREGON' 'CALLE COLEGIO MILITAR'\n",
      " '5 HERMANOS' 'LAURO G CALOCA' 'CALLE MATIAS RAMOS SANTOS' 'JUAN ALVAREZ'\n",
      " 'PLAN DE GUADALUPE' 'CONVENTO SANTA ROSA DE LIMA' 'GUADALUPE VICTORIA'\n",
      " 'BLVD. DE ACCESO' 'REAL DE MINAS' 'NOVEDADES' 'DEL DEPOSITO'\n",
      " 'AV UNIVERSIDAD' 'PEDRO CORONEL' 'RIO NAZAS' 'PROLONGACION MADERO'\n",
      " 'DEL SALTO' 'CALLE AMADOR' 'CALLEJON GARCIA DE ROJAS'\n",
      " 'PRIMERA PRIV. VILLA DEL ALAMO' 'CANTIL' 'V. HINOJOZA'\n",
      " 'CARRETERA A VETAGRANDE' 'JOSEFA ORTIZ' 'AV. LA PAZ' 'GUERRERO'\n",
      " 'VENTURA SALAZAR' 'DE RUIZ' 'LA ENCANTADA' 'EMILIANO ZAPATA'\n",
      " 'CALLE PRINCIPAL' '16 DE SEPTIEMBRE' 'HEROES DE LA REFORMA'\n",
      " 'LOPEZ VELARDE' 'CALLE VALLE DE ANAHUAC' 'MELCHOR OCAMPO'\n",
      " 'CALLE LAZARO CARDENAS' 'ALFONSO MEDINA' 'MEDICOS VETERINARIOS'\n",
      " 'JOSEFA ORTIZ DE DOMINGUEZ' 'JOAQUIN AMARO' 'CALLE LUIS DONALDO COLOSIO'\n",
      " 'VALLE DE ANAHUAC' 'BEATRIZ GONZALEZ ORTEGA' 'TAURO' 'INDEPENDENCIA'\n",
      " '4 DE JULIO' 'EUCALIPTO' 'JORGE LOPEZ RAMIREZ' 'PINO SUAREZ' 'ARRIAGA'\n",
      " 'LA CAPILLA' 'PIPILA' 'CALLEJON ESCOBEDO' 'DR. GROSSMAN'\n",
      " 'CALLE PENSADOR MEXICANO' 'COPLAMAR' 'CONSTITUYENTES'\n",
      " 'CALLE ARROYO DEL PENASCO' 'DEL REPOSO' 'ROQUE ESTRADA' 'REVOLUCION'\n",
      " 'PLATA' 'DEL RELOJ' 'ADOLFO LOPEZ MATEOS' 'MADERO' 'PRIV. MOTA PADILLA'\n",
      " 'CALLEJON DE TENERIAS' 'ALDAMA' 'CALLE EMILIO CARRANZA'\n",
      " 'CALLEJON TENERIA' 'AVENIDA LOPEZ VELARDE' 'CARRETERA PINOS-ZACATECAS'\n",
      " 'SANCHEZ ROMAN' 'MALECON' 'XICOTENCATL' 'CUAUHTEMOC' 'PANTEON'\n",
      " 'AVENIDA SAN MARCOS' 'ALLENDE' 'LORETO' 'RIO PAPALOAPAN'\n",
      " 'CALLEJON H FLORES' 'CALLE REFORMA' 'CALLE DEL HOSPICIO'\n",
      " 'CALLE SANTOS DEGOLLADO' 'QUEBRADILLA' 'REYES HEROLES' 'DE LA LUZ'\n",
      " 'REPUBLICA DEL SALVADOR' 'AV MEXICO' 'CRISTOBAL COLON' 'LUIS MOYA'\n",
      " 'FRACC CONDE SANTIAGO DE LA LAGUNA' 'PRIMO VERDAD' 'PANFILO NATERA'\n",
      " 'CALLE GUERRERO' 'LOMAS DEL CONSUELO' 'CERRO AMECA' 'JOSE MA. CORELLA'\n",
      " 'CENTENARIO' 'SAN ANTONIO' 'CALLE JUSTO SIERRA'\n",
      " 'CARRETERA ZACATECAS-GUADALAJARA KM. 6 EJ' 'RODRIGUEZ'\n",
      " 'CERRADA DE LA CONCEPCION' 'INDUSRIA PETROLERA' 'CARRETERA LA BUFA'\n",
      " 'CALLEJON PERICOS' 'AVENIDA MARQUEZ' 'FCCTO. ANTONIO ROSALES' 'NORUEGA'\n",
      " 'NUEVA CELAYA' 'CARRETERA GUADALAJARA' 'BOULEVARD SOLIDARIDAD'\n",
      " 'CALLE DEL ORO' 'ANTIGUA CARR.PANAMERICANA' 'PENOL' 'MAZAPIL'\n",
      " 'JUAN DE DIOS PEZA' 'FATIMA' 'COLONIA PROGRESO'\n",
      " 'ESQUINA PASEO LA BUFA S/N' 'CARRETERA A SAUCEDA DE LA BORDA'\n",
      " 'BOULEVARD LOPEZ PORTILLO' 'PASEO A LA BUFA' 'KM 15.5'\n",
      " 'BOLEVARD LOPEZ PORTILLO' 'AVENIDA PREPARATORIA'\n",
      " 'TRAMO ZACATECAS FRESNILLO' 'COLONIA HIDRAULICA'\n",
      " 'AVENIDA RAMON LOPEZ VELARDE' 'AGRONOMICA' 'EDIFICIO DE POSGRADOS'\n",
      " 'AV. CONDESA' 'CAMINO A LA BUFA' 'JACARANDAS' 'LOMA BONITA' 'LA BUFA'\n",
      " 'COLONIA AGRONOMICA' 'EDIFICIO DE POSGRADO' 'LA ANIMAS'\n",
      " 'BLVD. LOPEZ PORTILLO' 'LAS ARTES' 'HENRY HERTZ' 'EL PANTEON' 'PANAMA'\n",
      " 'GALERIAS' 'JOSE GARCIA VALSECA' 'ALFONSO ALVARES' 'CALLE UNIVERSO'\n",
      " 'JOSE MINERO ROQUE' 'CALZADA H. DE CHAPULTEPEC' 'ALFREDO ROUSELL'\n",
      " 'CALLE EPARRAGOS' 'LIBRAMIENTO SOLIDARIDAD' 'PROPIEDAD PRIVADA'\n",
      " 'LUCIO BLANCO' 'TEMPLO DE FATIMA' 'GALEANA' 'RIO AGUA NAVAL'\n",
      " 'MANUEL M PONCE' 'OLIVO' 'EDEN' 'MARTINEZ DOMINGUEZ' 'RIO AGUANAVAL'\n",
      " 'BARRIO SAN JOSE' 'ESTACIONAMIENTO DEL PARQUE ARROYO DE LA' 'B LAMARCK'\n",
      " 'CALLE ALDAMA' 'CARR. LA BUFA' 'CALLE CHEPINQUE' 'AVENIDA INSURGENTES'\n",
      " 'CALLE DIEGO ZACATECAS' 'CALLE ALAMEDA SUR' 'HACIENDA DE SAN AGUSTIN'\n",
      " 'SEGUNDA DE JUAN DE TOLOSA']\n",
      "[nan 'NINGUNO' 'ANDADOR GRANADA' 'AV. SIERRA MADRE' 'JOSE MARIA IGLESIAS'\n",
      " 'CUAUHTEMOC' 'CERRO DEL BORREGO' 'RAMON CORONO' 'SEGURO SOCIAL'\n",
      " 'BOULEVARD HOMBRES ILUSTRES' 'ANCON' 'CALLE APIO' 'CALLE MATAMOROS'\n",
      " 'INSURGENTES' 'PASAJE SECCION 92' 'ALBATROS' 'CALLE SANTIAGO DE CUBA'\n",
      " 'DANIEL MARQUEZ MEDINA' 'RAYON' 'FRACCIONAMIENTO LOMAS DE BERNARDEZ'\n",
      " 'SANTA ROSA' 'CARRETERA A GUADALAJARA' 'CANTIL'\n",
      " 'BOULEVARD LOPEZ PORTILLO' 'CALLE FRANCISCO VILLA' 'CALLE CRESTON'\n",
      " 'C. DEL DERECHO' 'C. ALBATROS' 'LIMITE ZONA FEDERAL' 'CALLE GRANADA'\n",
      " 'CALLE DANIEL MARQUEZ MEDINA' 'JUAREZ'\n",
      " 'FRACCCIONAMIENTO LOMAS DE BERNARDEZ' 'CALLE SAN JACOB'\n",
      " 'GENERALISIMO MORELOS' 'AVENIDA PREPARATORIA' 'SONORA' 'ENRIQUE ESTRADA'\n",
      " 'BOULEVARD LOPEZ MATEOS' 'CALLE AURORA' 'CALLE JUAREZ' 'CALLE 10 DE MAYO'\n",
      " 'INDUSTRIA METALURGICA' 'ESCUELA SECUNDARIA 47' 'CALLE GONZALEZ ORTEGA'\n",
      " 'CALLE LUIS MOYA' 'NICOLAS BRAVO' 'CALLE MINA' 'PRIVADA DONCELES'\n",
      " 'SANCHEZ ROMAN' 'BELISARIO DOMINGUEZ' 'CHIRIMOYA' 'CALLE DEL CODO'\n",
      " 'CALLE ROSALES' 'CALLE MORELOS' 'BENITO LOPEZ BERNAL' 'SANJA'\n",
      " 'CALLE DE LA LOMA' 'CALLE INSURGENTES' 'ARTEAGA' 'FRACC. BERNARDEZ'\n",
      " 'AV. MEXICO' 'ITURBIDE' 'IGNACIO ALLENDE' 'GARCIA DE LA CADENA'\n",
      " 'CALLE NINOS HEROES' 'CERRO DEL TIGRE' 'CALLE NACIONAL'\n",
      " 'VENUSTIANO CARRANZA' 'EL MEZQUITE' 'CALLE HIDALGO' 'ZARAGOZA' 'FRANCIA'\n",
      " 'FRANCISCO ZARCO' 'CALLE CONSTITUCION' 'CALLE J. MA. IGLESIAS'\n",
      " 'RAMON CORONA' 'CALLE DE LOS PLANETAS' 'CALLEJON NUMERO 3' 'RIO GRANDE'\n",
      " 'MA GUADALUPE GALLEGOS DE SAUCEDO' 'HANS KREBS' 'AVENIDA TORREON'\n",
      " 'CARRETERA SAN RAMON' 'BOULEVARD ADOLFO LOPEZ MATEOS' 'CALLE DEL ESPEJO'\n",
      " 'CALLE VICENTE GUERRERO' 'CALLE ALVARO OBREGON' 'CALLE VICTOR ROSALES']\n",
      "['9415178' '9832242' '9440545' ... '8990673' '9243425' '9220048']\n",
      "[nan 'prepaelchique@hotmail.com' 'preparatoriahuanusco@hotmail.com'\n",
      " 'felix_ugomez@gotmail.com' 'prepeamezquite@hotmail.com'\n",
      " 'prepazoquite@hotmail.com' 'prepasanjeronimo@hotmail.com'\n",
      " 'prepatlachis@hotmail.com' 'cobach_40@hotmail.com' 'jgbalta15@yahoo.com'\n",
      " 'dirgen_celz@hotmail.com' 'uadcz_preparatoria@yahoo.com.mx'\n",
      " 'preparemington@hotmail.com' 'institutosanmatiasac@yahoo.com.mx'\n",
      " 'institutomaxwell@yahoo.com.mx' 'cdanielmm45@yahoo.com.mx'\n",
      " 'univerzac@hotmail.com' 'contacto@ifizac.com'\n",
      " 'helio_luna_santana_5@hotmail.com' 'tbcjmmorelosc13@gmail.com'\n",
      " 'tbczeltepetategc13@gmail.com' 'tbczvguerrerof13@gmail.com'\n",
      " 'tbczsantiaguillof13@gmail.com' 'tbczlsbarbaraf13@gmail.com'\n",
      " 'tbczlossoyatesh13@gmail.com' 'tbczparadillasja13@gmail.com'\n",
      " 'tbczriodemedinasa13@gmail.com' 'tbcztolosap13@gmail.com'\n",
      " 'tbczemilianozapatavc13@gmail.com' 'colegiodelcentro@yahoo.com.mx'\n",
      " 'rectoriauaf@hotmail.com' 'iezac@hotmail.com' 'cecyt18@ipn.mx'\n",
      " 'prepaconcepcion@yahoo.com.mx' 'preparatoriaelsitio@yahoo.com.mx'\n",
      " 'prepatab@yahoo.com.mx' 'prepa_josegmontes@hotmail.com'\n",
      " 'prepa_momax@latinmail.com' 'prepa_fgs@hotmail.com'\n",
      " 'prepajuchipila@hotmail.com' 'prepamonte@yahoo.com.mx'\n",
      " 'prepatepetongo@hotmail.com' 'prepateul@yahoo.com.mx'\n",
      " 'prepajalpa@yahoo.com' 'prepanochistlan1@yahoo.com.mx'\n",
      " 'victorcalera@yahoo.com.mx' 'prepavillanueva@yahoo.com.mx'\n",
      " 'malpaso905@yahoo.com.mx' 'prepapnz@yahoo.com.mx'\n",
      " 'prepacorrales@yahoo.com.mx' 'teyra_71@yahoo.com.mx'\n",
      " 'prepabma@hotmail.com' 'preparlv@yahoo.com.mx'\n",
      " 'prepacolonia@yahoo.com.mx' 'ihajaimetb@hotmail.com'\n",
      " 'prepatayahua@yahoo.com.mx' 'cbta166sep@yahoo.com.mx'\n",
      " 'cbta137tepechi@yahoo.com.mx' 'cbta167valparaiso@yahoo.com.mx'\n",
      " 'cbta138@gmail.com' 'cbta_18820@yahoo.com.mx' 'cbta189dgeta@yahoo.com.mx'\n",
      " 'cbta_020@yahoo.com.mx' 'cbta088@yahoo.com.mx' 'cbta285@yahoo.com.mx'\n",
      " 'cbta286@yahoo.com.mx' 'sherandoa@netzero.com' 'fad383@hotmail.com'\n",
      " 'universidadhumanista@hotmail.com' 'direccion_liceo@hotmail.com'\n",
      " 'martinmonreal@yahoo.com' 'campusmargil@hotmail.com'\n",
      " 'superiorteaching_zacatecas@hotmail.com' 'jcff27@hotmail.com'\n",
      " 'lcangema@hotmail.com' 'asisdeguadalupe@hotmail.com'\n",
      " 'colegioriogrande@hotmail.com' 'inmexa@gmail.com'\n",
      " 'centenarioderotary@prodigy.net.mx' 'direccion@fresnillo.uad.edu.mx'\n",
      " 'rectoria@sistemaucem.edu.mx' 'jos_alro25@yahoo.com.mx'\n",
      " 'maestramirna@hotmail.com' 'krlos801113@gmail.com'\n",
      " 'rosalinda_robles@yahoo.com.mx' 'a_raulcd@live.com' 'sloop41@hotmail.com'\n",
      " 'franchini13@hotmail.com' 'altega2@hotmail.com'\n",
      " 'm.c.d_eunice@hotmail.com' 'arturoibarra33@yahoo.com.mx'\n",
      " 'osalke_ric@hotmail.com' 'gruiz@issste.gob.mx' 'marisol789@todito.com'\n",
      " 'direczacatecas@yahoo.com.mx' 'gardner_school@hotmail.com'\n",
      " 'cecytez32@gmail.com' 'violetas@prodigi.net.mx' 'vetagde@yahoo.com.mx'\n",
      " 'cdf.semilla@hotmail.com' 'sanchez_mtz@hotmail.com'\n",
      " 'mariapvs@yahoo.com.mx' 'africa.reveles@hotmail.com'\n",
      " 'florfuz2@yahoo.com.mx' 'marthatv_3@hotmail.com'\n",
      " 'miescuelitacolorines@hotmail.com' 'iluymx@yahoo.com.mx'\n",
      " 'cendi.fplz.huertas@gmail.com' 'guarderiacentenario@prodigy.com'\n",
      " 'alesc80@hotmail.com' 'mdecervantes2006@yahoo.com' 'ce.fifre@hotmail.com'\n",
      " 'jorgec_78@hotmail.com' 'anahicl_70@hotmail.com' 'cja@juanadearco.edu.mx'\n",
      " 'iez@liginet.com.mx' 'fabiolobski@hotmail.com'\n",
      " 'irmartinez_05@hotmail.com' 'instituto maxwell@yahoo.com.mx'\n",
      " 'institutodelcarmen@hotmail.com' 'inavarro@uaz.edu.mx'\n",
      " 'montessorizac@hotmail.es' 'montessorizac@hotmail.com'\n",
      " 'mdecervantes2006@yahoo.com.mx' 'direczacatecas@yahoo.com'\n",
      " 'cecasnet@yahoo.com.mx' 'institutomakarenkodezacatecas@live.com'\n",
      " 'terranov00@hotmail.com' 'marisoldesantiago@hotmail.com'\n",
      " 'ipef@live.com.mx' 'secundariauaz@hotmail.com'\n",
      " 'institutoedison@hotmail.com' 'secundaria.zac@servicios.itesm.mx'\n",
      " 'balmecazadores@hotmail.com' 'supereducesp03@hotmail.com'\n",
      " 'e.especialfresnillo10@hotmail.com' 'maslso@prodigy.net.mx'\n",
      " 'cceid@hotmail.com' 'edgarescobedo2010@hotmail.com'\n",
      " 'jahyvers@hotmail.com' 'jambtsa@hotmail.com' 'direccion_ceo@hotmail.com'\n",
      " \"jahyver's@hotmail.com\" 'lucyj@hotmail.com' 'cecati@logicnet.com.mx'\n",
      " 'cecati62@fresnillo.net.mx' 'cecati81@logicnet.com.mx'\n",
      " 'licjmvc_1@hotmail.com' 'rosalbabanuelos@live.com.mx'\n",
      " 'institutovinces@hotmail.com' 'zacatecas@harmonhall.com'\n",
      " 'adelaroro@hotmail.com' 'director@institutoe.org' 'itcpvg@hotmail.com'\n",
      " 'centroplaterodezacatecasac@hotmail.com' 'ascrown@hotmail.com'\n",
      " 'ascrown@hormail.com' 'icectlalte@hotmail.com'\n",
      " 'instituto.angelus@live.com.mx' 'itecas2011@hotmail.com'\n",
      " 'pareh@prodigy.net.mx' 'cachorro1966@live.com' 'susy_gar17@hotmail.com'\n",
      " 'vlasyinstituto@hotmail.com' 'candy_88_5@hotmail.com'\n",
      " 'come316@hotmail.com' 'escuelacandelariohuizar@yahoo.com.mx'\n",
      " 'isabel_ms46@hotmail.com' 'asalazar@cantera.reduaz.mx' 'uhvf@hotmail.com'\n",
      " 'zacatecas@ipn.pn.mx' 'glopez@unid.edu.mx' 'umc@yahoo.com.mx'\n",
      " 'fernando.elias@zac.unidep.edu.mx' 'direcitz@mapache.itz.edu.mx'\n",
      " 'itszndirecciongeneral@gmail.com' 'izcuzac@hotmail.com'\n",
      " 'cielmex@prodigy.net.mx' 'chuyra67@hotmail.com' 'enrsanmarcos@yahoo.com'\n",
      " 'institutosanjuan.estudiossup@gmail.com'\n",
      " 'escuela_conservacion_zacatecas@yahoo.com.mx' 'iica.cace@iica.edu.mx'\n",
      " 'itszas@itszas.edu.mx' 'dante@itsm.mx' 'soteloj@cantera.reduaz.mx'\n",
      " 'uadsuaz@hotmail.com' 'trabsocialzact@yahoo.com'\n",
      " 'mcabral@mail.utzac.edu.mx' 'eececenfgbo@prodigy.net.mx'\n",
      " 'direccion@zacatecas.uad.edu.mx' 'plan-pro-eval-itsn@hotmail.com'\n",
      " 'itszo_som@hotmail.com' 'upsz.rectoria@gmail.com' 'pppitsf@hotmail.com'\n",
      " 'icytezacatecas@yahoo.com.mx' 'jzavala@cantera.reduaz.mx'\n",
      " 'belm@cantera.reduaz.mx' 'fjcabral@cantera.reduaz.mx'\n",
      " 'aalvarez@cantera.reduaz.mx' 'agrouaz@cantera.reduaz.mx'\n",
      " 'jorge_luis6541@hotail.com' 'arteagamed@hotmail.com'\n",
      " 'enriquezj@cantera.reduaz.mx' 'jlguarda@cantera.reduaz.mx'\n",
      " 'scamacho@cantera.reduaz.mx' 'dmiram@cantera.reduaz.mx'\n",
      " 'ljimenez@mate.reduaz.mx' 'rdelpoz@uaz.edu.mx' 'cardpzed48@yahoo.com'\n",
      " 'sergio09@mexico.com.' 'alexgarciaortega@yahoo.com'\n",
      " 'marcelo.sada@gmail.com.' 'almudaina@gmail.com' 'upn.zac@prodigy.net.mx'\n",
      " 'upezac@upez.edu.mx' 'tec_loreto@yahoo.com.mx'\n",
      " 'crucen_biblio@hotmail.com' 'rectoriauaf@edu.mx rectoriauaf@hotmail.com'\n",
      " 'actualiz@prodigy.net.mx' 'sama@bancomer.com' 'direccion@enmac.net'\n",
      " 'nrrcenerrc79@hotmail.com' 'serviciosescolares@sigloxxi.com'\n",
      " 'idcczac@gmail.com' 'rdwise@estudiosdeldesarrollo.net'\n",
      " 'victorchavez@hotmail.com' 'tecjerez2003@yahoo.com'\n",
      " 'posgradosiupad@prodigy.net.mx' 'cinade@cinade.educ.mx'\n",
      " 'amso.nu@gmail.com' 'rortizg2002@yahoo.com.mx' 'marcm@uaz.edu.mx'\n",
      " 'eanda@cantera.reduaz.mx' 'valo014@yahoo.com.mx' 'echavez_o@hotmail.com'\n",
      " 'rayitos2@hotmail.com' 'colegiomargil@prodigy.net.mx'\n",
      " 'garabatossc@hotmail.com' 'guarderiafinanzas@hotmail.com'\n",
      " 'correo@iammadeus.edu.mx' 'hortegaza@hotmail.com' 'ienlec@prodigy.net.mx'\n",
      " 'espczacatecas@hotmail.com' 'cedejus@hotmail.com' 'jtgval@yahoo.com.mx'\n",
      " 'gifresnillo@hotmail.com' 'guarderiacentenario@prodigy.com.mx'\n",
      " 'rayitos2@televicable.com.mx' 'violetas@prodigy.net.mx'\n",
      " 'jorge_luis@hotmail.com' 'bachilleratobazac.@hotmail.com'\n",
      " 'juanis69_alex94@yahoo.com.mx' 'superiorteaching_zacaatecas@hotmail.com'\n",
      " 'rectoria@uaf.edu.mx' 'washington.institute@hotmail.com'\n",
      " 'victorsantos@otmail.com' 'angelica_gcid@hotmail.com'\n",
      " 'prodezac1967@hotmail.com' 'vero_esparza_isc@hotmail.com'\n",
      " 'nelida14@live.com.mx' 'eleganzasnm@hotmail.com'\n",
      " 'enlacezacsusa@outlook.com' 'chiquilandia arroba.com.mx']\n",
      "['-103:01:58.000' '-103:27:12.816' '-102:14:47.760' ... '-102:52:05.626'\n",
      " '-101:59:11.630' '-102:52:08.401']\n",
      "['35:16.0' '57:56.7' '33:47.9' ... '21:38.0' '10:29.6' '16:19.9']\n"
     ]
    }
   ],
   "source": [
    "for col in string_columns:\n",
    "    print(df[col].unique())"
   ]
  },
  {
   "attachments": {},
   "cell_type": "markdown",
   "metadata": {},
   "source": [
    "We could follow by checking the correct dtypes of some columns, but it is out of our interest.   \n",
    "Let us check one more time and add a new column \"id_int\" which will serve as index.  "
   ]
  },
  {
   "cell_type": "code",
   "execution_count": 39,
   "metadata": {},
   "outputs": [
    {
     "name": "stdout",
     "output_type": "stream",
     "text": [
      "<class 'pandas.core.frame.DataFrame'>\n",
      "RangeIndex: 5714 entries, 0 to 5713\n",
      "Data columns (total 47 columns):\n",
      " #   Column                                   Non-Null Count  Dtype  \n",
      "---  ------                                   --------------  -----  \n",
      " 0   periodo                                  5714 non-null   object \n",
      " 1   tipo_educativo                           5714 non-null   object \n",
      " 2   nivel_educativo                          5714 non-null   object \n",
      " 3   servicio_educativo                       5714 non-null   object \n",
      " 4   clave_entidad                            5714 non-null   int64  \n",
      " 5   entidad                                  5714 non-null   object \n",
      " 6   clave_municipal                          5714 non-null   int64  \n",
      " 7   municipio                                5714 non-null   object \n",
      " 8   clave_localidad                          5714 non-null   int64  \n",
      " 9   localidad                                5714 non-null   object \n",
      " 10  clave                                    5714 non-null   object \n",
      " 11  turno                                    5714 non-null   object \n",
      " 12  ambito                                   5714 non-null   object \n",
      " 13  centro_educativo                         5714 non-null   object \n",
      " 14  control                                  5714 non-null   object \n",
      " 15  domicilio                                5713 non-null   object \n",
      " 16  num_exterior                             5251 non-null   object \n",
      " 17  entre_calle                              5713 non-null   object \n",
      " 18  y_calle                                  5713 non-null   object \n",
      " 19  calle_posterior                          5290 non-null   object \n",
      " 20  codigo_postal                            5202 non-null   float64\n",
      " 21  lada                                     5276 non-null   float64\n",
      " 22  telefono                                 1576 non-null   object \n",
      " 23  correo_electronico                       369 non-null    object \n",
      " 24  total_de_personal                        5714 non-null   int64  \n",
      " 25  personal_mujeres                         5714 non-null   int64  \n",
      " 26  personal_hombres                         5714 non-null   int64  \n",
      " 27  total_de_docentes                        5714 non-null   int64  \n",
      " 28  docentes_mujeres                         5714 non-null   int64  \n",
      " 29  docentes_hombres                         5714 non-null   int64  \n",
      " 30  total_de_alumnos                         5714 non-null   int64  \n",
      " 31  alumnos_mujeres                          5714 non-null   int64  \n",
      " 32  alumnos_hombres                          5714 non-null   int64  \n",
      " 33  total_de_grupos                          5714 non-null   int64  \n",
      " 34  aulas_existentes                         5714 non-null   int64  \n",
      " 35  aulas_en_uso                             5714 non-null   int64  \n",
      " 36  laboratorios                             5714 non-null   int64  \n",
      " 37  talleres                                 5714 non-null   int64  \n",
      " 38  computadoras_en_operacion                5714 non-null   int64  \n",
      " 39  computadoras_en_operacion_mas_internet   5714 non-null   int64  \n",
      " 40  computadoras_en_operacion_uso_educativo  5714 non-null   int64  \n",
      " 41  altitud_msnm                             5713 non-null   float64\n",
      " 42  longitud                                 5714 non-null   float64\n",
      " 43  latitud                                  5714 non-null   float64\n",
      " 44  longitud_gms                             5714 non-null   object \n",
      " 45  latitud_gms                              5714 non-null   object \n",
      " 46  id_int                                   5714 non-null   int32  \n",
      "dtypes: float64(5), int32(1), int64(20), object(21)\n",
      "memory usage: 2.0+ MB\n"
     ]
    }
   ],
   "source": [
    "df.info()"
   ]
  },
  {
   "cell_type": "code",
   "execution_count": 36,
   "metadata": {},
   "outputs": [
    {
     "name": "stdout",
     "output_type": "stream",
     "text": [
      "Index(['periodo', 'tipo_educativo', 'nivel_educativo', 'servicio_educativo',\n",
      "       'clave_entidad', 'entidad', 'clave_municipal', 'municipio',\n",
      "       'clave_localidad', 'localidad', 'clave', 'turno', 'ambito',\n",
      "       'centro_educativo', 'control', 'domicilio', 'num_exterior',\n",
      "       'entre_calle', 'y_calle', 'calle_posterior', 'codigo_postal', 'lada',\n",
      "       'telefono', 'correo_electronico', 'total_de_personal',\n",
      "       'personal_mujeres', 'personal_hombres', 'total_de_docentes',\n",
      "       'docentes_mujeres', 'docentes_hombres', 'total_de_alumnos',\n",
      "       'alumnos_mujeres', 'alumnos_hombres', 'total_de_grupos',\n",
      "       'aulas_existentes', 'aulas_en_uso', 'laboratorios', 'talleres',\n",
      "       'computadoras_en_operacion', 'computadoras_en_operacion_mas_internet',\n",
      "       'computadoras_en_operacion_uso_educativo', 'altitud_msnm', 'longitud',\n",
      "       'latitud', 'longitud_gms', 'latitud_gms'],\n",
      "      dtype='object')\n"
     ]
    }
   ],
   "source": [
    "print(df.columns)"
   ]
  },
  {
   "attachments": {},
   "cell_type": "markdown",
   "metadata": {},
   "source": [
    "We create a new columns of sequential integers that will be useful later for a primary key"
   ]
  },
  {
   "cell_type": "code",
   "execution_count": 38,
   "metadata": {},
   "outputs": [],
   "source": [
    "df[\"id_int\"] = pd.Series(np.arange(1, len(df) + 1))"
   ]
  },
  {
   "cell_type": "code",
   "execution_count": 40,
   "metadata": {},
   "outputs": [
    {
     "data": {
      "text/plain": [
       "1496.0    838\n",
       "1493.0    621\n",
       "1492.0    598\n",
       "1458.0    485\n",
       "1457.0    404\n",
       "1498.0    402\n",
       "1433.0    297\n",
       "1494.0    268\n",
       "1842.0    239\n",
       "1463.0    228\n",
       "1467.0    206\n",
       "1437.0    186\n",
       "1499.0    166\n",
       "1346.0    166\n",
       "1478.0    129\n",
       "1200.0     28\n",
       "1844.0     15\n",
       "Name: lada, dtype: int64"
      ]
     },
     "execution_count": 40,
     "metadata": {},
     "output_type": "execute_result"
    }
   ],
   "source": [
    "df.lada.value_counts()"
   ]
  },
  {
   "attachments": {},
   "cell_type": "markdown",
   "metadata": {},
   "source": [
    "Let us initialize the process of exporting the final dataframe to PostgreSql.    \n",
    "First, we establish the connection with my local PostgreSql with the database called 'postgres'.  "
   ]
  },
  {
   "cell_type": "code",
   "execution_count": 41,
   "metadata": {},
   "outputs": [
    {
     "name": "stdout",
     "output_type": "stream",
     "text": [
      "Connection succesful\n"
     ]
    }
   ],
   "source": [
    "import psycopg2\n",
    "connection= psycopg2.connect(host='localhost',database='postgres',user='postgres',password=password)\n",
    "cur=connection.cursor()\n",
    "print(\"Connection succesful\")"
   ]
  },
  {
   "attachments": {},
   "cell_type": "markdown",
   "metadata": {},
   "source": [
    "Now, we create the complex query that will generate the table database. We start by matching the equivalent format between the different data types in sql and pandas."
   ]
  },
  {
   "cell_type": "code",
   "execution_count": 42,
   "metadata": {},
   "outputs": [],
   "source": [
    "#Replacement dictionary between data types of pandas and sql\n",
    "replacements={'object': 'varchar', 'float64':'float','int32':'int' ,'int64':'int','datetime64':'timestamp'}"
   ]
  },
  {
   "cell_type": "code",
   "execution_count": 43,
   "metadata": {},
   "outputs": [],
   "source": [
    "#We create the table schema  \n",
    "col_str = \", \".join(\"{} {}\".format(n, d) for (n, d) in zip(df.columns, df.dtypes.replace(replacements)))"
   ]
  },
  {
   "attachments": {},
   "cell_type": "markdown",
   "metadata": {},
   "source": [
    "We verify that the map is correct; the column name follow by the datatype:"
   ]
  },
  {
   "cell_type": "code",
   "execution_count": 44,
   "metadata": {},
   "outputs": [
    {
     "name": "stdout",
     "output_type": "stream",
     "text": [
      "periodo varchar, tipo_educativo varchar, nivel_educativo varchar, servicio_educativo varchar, clave_entidad int, entidad varchar, clave_municipal int, municipio varchar, clave_localidad int, localidad varchar, clave varchar, turno varchar, ambito varchar, centro_educativo varchar, control varchar, domicilio varchar, num_exterior varchar, entre_calle varchar, y_calle varchar, calle_posterior varchar, codigo_postal float, lada float, telefono varchar, correo_electronico varchar, total_de_personal int, personal_mujeres int, personal_hombres int, total_de_docentes int, docentes_mujeres int, docentes_hombres int, total_de_alumnos int, alumnos_mujeres int, alumnos_hombres int, total_de_grupos int, aulas_existentes int, aulas_en_uso int, laboratorios int, talleres int, computadoras_en_operacion int, computadoras_en_operacion_mas_internet int, computadoras_en_operacion_uso_educativo int, altitud_msnm float, longitud float, latitud float, longitud_gms varchar, latitud_gms varchar, id_int int\n"
     ]
    }
   ],
   "source": [
    "print(col_str)"
   ]
  },
  {
   "attachments": {},
   "cell_type": "markdown",
   "metadata": {},
   "source": [
    "We know that to create a table in SQL, we follow the syntax: CREATE TABLE table_name(col_1 DATATYPE, col_2 DATATYPE, ... ) that is the reason we create col_str. Now, with the command execute we generate the table:"
   ]
  },
  {
   "cell_type": "code",
   "execution_count": 45,
   "metadata": {},
   "outputs": [],
   "source": [
    "#Creating the table\n",
    "cur.execute(\"drop table if exists %s;\" % (tbl_name))\n",
    "cur.execute(\"CREATE TABLE %s(%s);\" % (tbl_name,col_str))\n",
    "#It is important to use the following method to commit our transaction into Postgre. Otherwise it will not be saved it\n",
    "connection.commit()"
   ]
  },
  {
   "cell_type": "code",
   "execution_count": 283,
   "metadata": {},
   "outputs": [
    {
     "data": {
      "text/plain": [
       "Index(['id_int', 'periodo', 'tipo_educativo', 'nivel_educativo',\n",
       "       'servicio_educativo', 'clave_entidad', 'entidad', 'clave_municipal',\n",
       "       'municipio', 'clave_localidad', 'localidad', 'clave', 'turno', 'ambito',\n",
       "       'centro_educativo', 'control', 'domicilio', 'num_exterior',\n",
       "       'entre_calle', 'y_calle', 'calle_posterior', 'codigo_postal', 'lada',\n",
       "       'telefono', 'correo_electronico', 'total_de_personal',\n",
       "       'personal_mujeres', 'personal_hombres', 'total_de_docentes',\n",
       "       'docentes_mujeres', 'docentes_hombres', 'total_de_alumnos',\n",
       "       'alumnos_mujeres', 'alumnos_hombres', 'total_de_grupos',\n",
       "       'aulas_existentes', 'aulas_en_uso', 'laboratorios', 'talleres',\n",
       "       'computadoras_en_operacion', 'computadoras_en_operacion_mas_internet',\n",
       "       'computadoras_en_operacion_uso_educativo', 'altitud_msnm', 'longitud',\n",
       "       'latitud', 'longitud_gms', 'latitud_gms'],\n",
       "      dtype='object')"
      ]
     },
     "execution_count": 283,
     "metadata": {},
     "output_type": "execute_result"
    }
   ],
   "source": [
    "df.columns"
   ]
  },
  {
   "attachments": {},
   "cell_type": "markdown",
   "metadata": {},
   "source": [
    "We create a csv file with the dataframe, open it in python, and copy the values to our new postgre table\n"
   ]
  },
  {
   "cell_type": "code",
   "execution_count": 46,
   "metadata": {},
   "outputs": [],
   "source": [
    "#Now we create a csv with the dataframe and load to the new table\n",
    "df.to_csv(\"%s\" % (tbl_name),header=df.columns, index=False,encoding='utf-8')"
   ]
  },
  {
   "attachments": {},
   "cell_type": "markdown",
   "metadata": {},
   "source": [
    "Finally, we upload the data"
   ]
  },
  {
   "cell_type": "code",
   "execution_count": 47,
   "metadata": {},
   "outputs": [],
   "source": [
    "my_file=open(\"%s\" %(tbl_name))\n",
    "sql_statement=\"\"\" COPY %s FROM STDIN WITH CSV HEADER DELIMITER AS ',' \"\"\"\n",
    "cur.copy_expert(sql=sql_statement % (tbl_name), file=my_file)\n",
    "connection.commit()   \n",
    "cur.close()                   "
   ]
  },
  {
   "attachments": {},
   "cell_type": "markdown",
   "metadata": {},
   "source": [
    "## Database normalization"
   ]
  },
  {
   "attachments": {},
   "cell_type": "markdown",
   "metadata": {},
   "source": [
    "By using pgAdmin 4, we normalized the original table into 2nd and 3rd normal forms. We created these tables with a sequence of statements  \n",
    "CREATE TABLE ____ AS  \n",
    "SELECT ____   \n",
    "FROM public.escuela_zac  \n",
    "Then, we fixed constraints for the primary key and foreign keys. Notice that from the dataframe, we added a column called \"id_int\" to have a identifier for every row. I though that the column clave would serve as primary key but it has null values. Check the other file in the repository to see the sql statements.  Our entity relational diagram (ERD) has the form: "
   ]
  },
  {
   "attachments": {
    "diagram_normalization.png": {
     "image/png": "[encoded data removed]"
    }
   },
   "cell_type": "markdown",
   "metadata": {},
   "source": [
    "![diagram_normalization.png](attachment:diagram_normalization.png)"
   ]
  },
  {
   "attachments": {},
   "cell_type": "markdown",
   "metadata": {},
   "source": [
    "As final tasks, we create two functions: One that allows you to search by school name or fragment of it and return the matches"
   ]
  },
  {
   "cell_type": "code",
   "execution_count": 15,
   "metadata": {},
   "outputs": [],
   "source": [
    "def nombre_escuela():\n",
    "    a=input(\"Introduce el nombre de la escuela, o parte de el, entre comillas y con mayúsculas\")\n",
    "    query=f\"SELECT DISTINCT centro_educativo FROM public.centro WHERE centro_educativo LIKE '%{a}%' \"\n",
    "    conn = psycopg2.connect(host='localhost',database='postgres',user='postgres',password=password)\n",
    "    cur = conn.cursor()\n",
    "    cur.execute(query)\n",
    "    results = cur.fetchall()\n",
    "    cur.close()\n",
    "    conn.close()\n",
    "    return results"
   ]
  },
  {
   "cell_type": "code",
   "execution_count": 16,
   "metadata": {},
   "outputs": [
    {
     "data": {
      "text/plain": [
       "[('CENTRO DE ESTUDIOS CIENTIFICOS Y TECNOLOGICOS DEL ESTADO',),\n",
       " ('CENTRO DE ESTUDIOS CIENTIFICOS Y TECNOLOGICOS NUM. 18 ZACATECAS',),\n",
       " ('COLEGIO DE ESTUDIOS CIENTIFICOS Y TECNOLOGICOS DEL EDO.',),\n",
       " ('COLEGIO DE ESTUDIOS CIENTIFICOS Y TECNOLOGICOS DEL ESTADO',),\n",
       " ('COLEGIO DE ESTUDIOS CIENTIFICOS Y TECNOLOGICOS DEL ESTADO PLANTEL RIO GRANDE',),\n",
       " ('COLEGIO DE ESTUDIOS CIENTIFICOS Y TECNOLOGICOS DEL ESTADO PLANTEL TLALTENANGO',),\n",
       " ('COLEGIO DE ESTUDIOS CIENTIFICOS Y TECNOLOGICOS DEL ESTADO PLANTEL VICTOR ROSALES',)]"
      ]
     },
     "execution_count": 16,
     "metadata": {},
     "output_type": "execute_result"
    }
   ],
   "source": [
    "nombre_escuela()"
   ]
  },
  {
   "attachments": {},
   "cell_type": "markdown",
   "metadata": {},
   "source": [
    "A a function that receives the number of students as a parameter and returns all the schools with that number of students.   \n",
    "Notice that we have to join two tables for the query.  \n",
    "Let us first verify the column names"
   ]
  },
  {
   "cell_type": "code",
   "execution_count": 49,
   "metadata": {},
   "outputs": [
    {
     "name": "stdout",
     "output_type": "stream",
     "text": [
      "id_int\n",
      "tipo_educativo\n",
      "nivel_educativo\n",
      "servicio_educativo\n",
      "clave\n",
      "centro_educativo\n",
      "id_escuela\n"
     ]
    }
   ],
   "source": [
    "#Column names\n",
    "conn=psycopg2.connect(host='localhost',database='postgres',user='postgres',password=password)\n",
    "cur=conn.cursor()\n",
    "cur.execute(\"SELECT * FROM public.centro;\")\n",
    "column_names = [desc[0] for desc in cur.description]\n",
    "for i in column_names:\n",
    "    print(i)\n",
    "cur.close()\n",
    "conn.close()"
   ]
  },
  {
   "cell_type": "code",
   "execution_count": 3,
   "metadata": {},
   "outputs": [
    {
     "name": "stdout",
     "output_type": "stream",
     "text": [
      "id_int\n",
      "total_de_alumnos\n",
      "alumnos_mujeres\n",
      "alumnos_hombres\n",
      "total_de_grupos\n",
      "[(1, 325, 158, 167, 11), (2, 315, 158, 157, 11), (3, 623, 304, 319, 20), (4, 661, 335, 326, 24), (5, 519, 262, 257, 13), (6, 326, 167, 159, 10), (7, 163, 77, 86, 6), (8, 299, 154, 145, 9), (9, 113, 63, 50, 4), (10, 197, 108, 89, 6), (11, 402, 203, 199, 10), (12, 305, 152, 153, 9), (13, 124, 68, 56, 4), (14, 269, 150, 119, 9), (15, 502, 248, 254, 14), (16, 48, 20, 28, 3), (17, 1400, 680, 720, 33), (18, 324, 160, 164, 10), (19, 121, 58, 63, 3), (20, 650, 332, 318, 16)]\n"
     ]
    }
   ],
   "source": [
    "import psycopg2\n",
    "conn=psycopg2.connect(host='localhost',database='postgres',user='postgres',password=password)\n",
    "cur=conn.cursor()\n",
    "cur.execute(\"SELECT * FROM public.alumnos\")\n",
    "column_names = [desc[0] for desc in cur.description]\n",
    "for i in column_names:\n",
    "    print(i)\n",
    "cur.execute(\"SELECT * FROM public.alumnos LIMIT 20;\")\n",
    "results=cur.fetchall()\n",
    "print(results)\n",
    "cur.close()\n",
    "conn.close()"
   ]
  },
  {
   "cell_type": "code",
   "execution_count": 13,
   "metadata": {},
   "outputs": [],
   "source": [
    "#We construct the function\n",
    "def num_alumnos():\n",
    "    a=input(\"Introduce el numero de alumnos\")\n",
    "    conn=psycopg2.connect(host='localhost',database='postgres',user='postgres',password=password)\n",
    "    cur=conn.cursor()\n",
    "    query_1=f\"SELECT c.centro_educativo, a.total_de_alumnos FROM centro AS c INNER JOIN alumnos as a ON c.id_escuela=a.id_int WHERE a.total_de_alumnos={a}\"\n",
    "    cur.execute(query_1)\n",
    "    results=cur.fetchall()\n",
    "    print(results)\n",
    "    cur.close()\n",
    "    conn.close()"
   ]
  },
  {
   "cell_type": "code",
   "execution_count": 14,
   "metadata": {},
   "outputs": [
    {
     "name": "stdout",
     "output_type": "stream",
     "text": [
      "[('ESCUELA PREPARATORIA JOSE RODRIGUEZ ELIAS', 325), ('JOSE VASCONCELOS', 325), ('SALVADOR VARELA RESENDIZ', 325), ('COLEGIO DE BACHILLERES', 325)]\n"
     ]
    }
   ],
   "source": [
    "num_alumnos()"
   ]
  },
  {
   "attachments": {},
   "cell_type": "markdown",
   "metadata": {},
   "source": [
    "## Project finished."
   ]
  }
 ],
 "metadata": {
  "kernelspec": {
   "display_name": "base",
   "language": "python",
   "name": "python3"
  },
  "language_info": {
   "codemirror_mode": {
    "name": "ipython",
    "version": 3
   },
   "file_extension": ".py",
   "mimetype": "text/x-python",
   "name": "python",
   "nbconvert_exporter": "python",
   "pygments_lexer": "ipython3",
   "version": "3.9.12"
  },
  "orig_nbformat": 4,
  "vscode": {
   "interpreter": {
    "hash": "0fb0711b8cdf2979cced48acbebbab02854345c5f50d6d8d9071345b4553c792"
   }
  }
 },
 "nbformat": 4,
 "nbformat_minor": 2
}
